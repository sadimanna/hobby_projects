{
  "nbformat": 4,
  "nbformat_minor": 0,
  "metadata": {
    "colab": {
      "name": "chest xray.ipynb",
      "provenance": [],
      "collapsed_sections": [],
      "toc_visible": true
    },
    "kernelspec": {
      "name": "python3",
      "display_name": "Python 3"
    },
    "accelerator": "GPU"
  },
  "cells": [
    {
      "cell_type": "code",
      "metadata": {
        "id": "piC2d4K5GJfg",
        "colab_type": "code",
        "colab": {
          "base_uri": "https://localhost:8080/",
          "height": 353
        },
        "outputId": "67a56a87-df4c-4023-ce0a-3ada1cb43aa2"
      },
      "source": [
        "!nvidia-smi"
      ],
      "execution_count": 1,
      "outputs": [
        {
          "output_type": "stream",
          "text": [
            "Thu Jul 16 05:29:45 2020       \n",
            "+-----------------------------------------------------------------------------+\n",
            "| NVIDIA-SMI 450.51.05    Driver Version: 418.67       CUDA Version: 10.1     |\n",
            "|-------------------------------+----------------------+----------------------+\n",
            "| GPU  Name        Persistence-M| Bus-Id        Disp.A | Volatile Uncorr. ECC |\n",
            "| Fan  Temp  Perf  Pwr:Usage/Cap|         Memory-Usage | GPU-Util  Compute M. |\n",
            "|                               |                      |               MIG M. |\n",
            "|===============================+======================+======================|\n",
            "|   0  Tesla K80           Off  | 00000000:00:04.0 Off |                    0 |\n",
            "| N/A   35C    P8    26W / 149W |      0MiB / 11441MiB |      0%      Default |\n",
            "|                               |                      |                 ERR! |\n",
            "+-------------------------------+----------------------+----------------------+\n",
            "                                                                               \n",
            "+-----------------------------------------------------------------------------+\n",
            "| Processes:                                                                  |\n",
            "|  GPU   GI   CI        PID   Type   Process name                  GPU Memory |\n",
            "|        ID   ID                                                   Usage      |\n",
            "|=============================================================================|\n",
            "|  No running processes found                                                 |\n",
            "+-----------------------------------------------------------------------------+\n"
          ],
          "name": "stdout"
        }
      ]
    },
    {
      "cell_type": "code",
      "metadata": {
        "id": "r_5OkWCRJSmg",
        "colab_type": "code",
        "colab": {}
      },
      "source": [
        "import shutil, os"
      ],
      "execution_count": 13,
      "outputs": []
    },
    {
      "cell_type": "code",
      "metadata": {
        "id": "Ej-iAN9VopL0",
        "colab_type": "code",
        "colab": {
          "base_uri": "https://localhost:8080/",
          "height": 35
        },
        "outputId": "2fdaa4ff-3fa5-44c1-87f1-8670a83cd0e3"
      },
      "source": [
        "#UPLOAD kaggle.json (AFTER DOWNLOADING FROM KAGGLE ACCOUNT)\n",
        "shutil.move('/content/kaggle.json','/root/.kaggle/')"
      ],
      "execution_count": 21,
      "outputs": [
        {
          "output_type": "execute_result",
          "data": {
            "application/vnd.google.colaboratory.intrinsic": {
              "type": "string"
            },
            "text/plain": [
              "'/root/.kaggle/kaggle.json'"
            ]
          },
          "metadata": {
            "tags": []
          },
          "execution_count": 21
        }
      ]
    },
    {
      "cell_type": "code",
      "metadata": {
        "id": "tqxLFQ8THIdP",
        "colab_type": "code",
        "colab": {
          "base_uri": "https://localhost:8080/",
          "height": 67
        },
        "outputId": "11ee912e-8a37-4556-ca0e-1001be8330b9"
      },
      "source": [
        "!kaggle"
      ],
      "execution_count": 22,
      "outputs": [
        {
          "output_type": "stream",
          "text": [
            "Warning: Your Kaggle API key is readable by other users on this system! To fix this, you can run 'chmod 600 /root/.kaggle/kaggle.json'\n",
            "usage: kaggle [-h] [-v] {competitions,c,datasets,d,kernels,k,config} ...\n",
            "kaggle: error: too few arguments\n"
          ],
          "name": "stdout"
        }
      ]
    },
    {
      "cell_type": "code",
      "metadata": {
        "id": "ObN9c7j60sB-",
        "colab_type": "code",
        "colab": {
          "base_uri": "https://localhost:8080/",
          "height": 84
        },
        "outputId": "719d4612-44c4-4572-8a5f-35369ff38155"
      },
      "source": [
        "!kaggle datasets download -d paultimothymooney/chest-xray-pneumonia"
      ],
      "execution_count": 23,
      "outputs": [
        {
          "output_type": "stream",
          "text": [
            "Warning: Your Kaggle API key is readable by other users on this system! To fix this, you can run 'chmod 600 /root/.kaggle/kaggle.json'\n",
            "Downloading chest-xray-pneumonia.zip to /content\n",
            "100% 2.29G/2.29G [00:34<00:00, 89.3MB/s]\n",
            "100% 2.29G/2.29G [00:34<00:00, 72.0MB/s]\n"
          ],
          "name": "stdout"
        }
      ]
    },
    {
      "cell_type": "code",
      "metadata": {
        "id": "mykEEL4y3Pjx",
        "colab_type": "code",
        "colab": {}
      },
      "source": [
        "!unzip /content/*.zip  && rm /content/*.zip"
      ],
      "execution_count": null,
      "outputs": []
    },
    {
      "cell_type": "code",
      "metadata": {
        "id": "1vHO8LVJ4mZX",
        "colab_type": "code",
        "colab": {
          "base_uri": "https://localhost:8080/",
          "height": 34
        },
        "outputId": "e6a87b36-fa23-466b-f953-f93a6bffd767"
      },
      "source": [
        "import numpy as np \n",
        "import pandas as pd \n",
        "import os, random\n",
        "import shutil\n",
        "import tensorflow as tf\n",
        "from keras.preprocessing.image import ImageDataGenerator\n",
        "import matplotlib.pyplot as plt\n",
        "import PIL\n",
        "from PIL import Image"
      ],
      "execution_count": 25,
      "outputs": [
        {
          "output_type": "stream",
          "text": [
            "Using TensorFlow backend.\n"
          ],
          "name": "stderr"
        }
      ]
    },
    {
      "cell_type": "markdown",
      "metadata": {
        "id": "PRPMpUIC2pN3",
        "colab_type": "text"
      },
      "source": [
        "### OVERSAMPLING"
      ]
    },
    {
      "cell_type": "code",
      "metadata": {
        "id": "ijRoxYcyLFh_",
        "colab_type": "code",
        "colab": {}
      },
      "source": [
        "rm -r /content/chest_xray/chest_xray/"
      ],
      "execution_count": 29,
      "outputs": []
    },
    {
      "cell_type": "code",
      "metadata": {
        "id": "A4La_-RY1NBR",
        "colab_type": "code",
        "colab": {
          "base_uri": "https://localhost:8080/",
          "height": 34
        },
        "outputId": "3c9fe66c-8b15-462c-a328-2a0fbf5c6ec5"
      },
      "source": [
        "tr_numfnames = [len(os.listdir('/content/chest_xray/train/NORMAL')),len(os.listdir('/content/chest_xray/train/PNEUMONIA'))]\n",
        "print(tr_numfnames)"
      ],
      "execution_count": 30,
      "outputs": [
        {
          "output_type": "stream",
          "text": [
            "[1341, 3875]\n"
          ],
          "name": "stdout"
        }
      ]
    },
    {
      "cell_type": "code",
      "metadata": {
        "id": "OXDQfjBzLiS8",
        "colab_type": "code",
        "colab": {
          "base_uri": "https://localhost:8080/",
          "height": 34
        },
        "outputId": "6f22d70e-5b4e-4ef8-d13d-7ff041bcac16"
      },
      "source": [
        "max_num = np.max(tr_numfnames)\n",
        "max_class = np.argmax(tr_numfnames)\n",
        "print(max_class)"
      ],
      "execution_count": 31,
      "outputs": [
        {
          "output_type": "stream",
          "text": [
            "1\n"
          ],
          "name": "stdout"
        }
      ]
    },
    {
      "cell_type": "code",
      "metadata": {
        "id": "cKKdaYk8Lmj1",
        "colab_type": "code",
        "colab": {}
      },
      "source": [
        "if max_class == 1:\n",
        "    gapnum = tr_numfnames[1] - tr_numfnames[0]\n",
        "    print(gapnum)\n",
        "    min_fnames = os.listdir('/content/chest_xray/train/NORMAL/')\n",
        "\n",
        "    min_fnames = np.random.choice(min_fnames,gapnum,replace = True)\n",
        "    #print(len(min_fnames))\n",
        "    for i in range(len(min_fnames)):\n",
        "        #print(min_fnames[i])\n",
        "        fname = min_fnames[i][:-5]+'_'+str(i)+'.jpeg'\n",
        "        shutil.copy('/content/chest_xray/train/NORMAL/'+min_fnames[i],'/content/chest_xray/train/NORMAL/'+fname)\n",
        "\n",
        "    print([len(os.listdir('/content/chest_xray/train/NORMAL')),len(os.listdir('/content/chest_xray/train/PNEUMONIA'))])\n",
        "\n",
        "else:\n",
        "\n",
        "    gapnum = tr_numfnames[0] - tr_numfnames[1]\n",
        "\n",
        "    min_fnames = os.listdir('/content/chest_xray/train/PNEUMONIA/')\n",
        "\n",
        "    min_fnames = np.random.choice(min_fnames,gapnum, replace = True)\n",
        "\n",
        "    for i in range(len(min_fnames)):\n",
        "        #print(min_fnames[i])\n",
        "        fname = min_fnames[i][:-5]+'_'+str(i)+'.jpeg'\n",
        "        shutil.copy('/content/chest_xray/train/PNEUMONIA/'+min_fnames[i],'/content/chest_xray/train/PNEUMONIA/'+fname)\n",
        "\n",
        "    print([len(os.listdir('/content/chest_xray/train/NORMAL')),len(os.listdir('/content/chest_xray/train/PNEUMONIA'))])"
      ],
      "execution_count": null,
      "outputs": []
    },
    {
      "cell_type": "markdown",
      "metadata": {
        "id": "Z7veA24W2tqT",
        "colab_type": "text"
      },
      "source": [
        "### PREPROCESS INPUT"
      ]
    },
    {
      "cell_type": "code",
      "metadata": {
        "id": "gq7ikvmp0TZl",
        "colab_type": "code",
        "colab": {}
      },
      "source": [
        "def preprocess_input(X):\n",
        "    return 2*((X-np.max(X))/(np.max(X)-np.min(X)))-1"
      ],
      "execution_count": 37,
      "outputs": []
    },
    {
      "cell_type": "markdown",
      "metadata": {
        "id": "Ai2sF5Ek2vgU",
        "colab_type": "text"
      },
      "source": [
        "### DATA GENERATORS"
      ]
    },
    {
      "cell_type": "code",
      "metadata": {
        "id": "UcI4qcMP5ilW",
        "colab_type": "code",
        "colab": {
          "base_uri": "https://localhost:8080/",
          "height": 34
        },
        "outputId": "89d95cf4-b3d6-445d-89c0-b7d773b75c13"
      },
      "source": [
        "train_datagen = ImageDataGenerator(\n",
        "        shear_range=0.2,\n",
        "        zoom_range=0.2,\n",
        "        horizontal_flip=True,\n",
        "        rotation_range=30,\n",
        "    width_shift_range=6.0,\n",
        "    height_shift_range=6.0,\n",
        "    brightness_range=[0.85,1.15],\n",
        "    preprocessing_function = preprocess_input)\n",
        "training_set = train_datagen.flow_from_directory('/content/chest_xray/train/',\n",
        "        target_size=(256,256),\n",
        "        batch_size=32,\n",
        "        class_mode='binary')"
      ],
      "execution_count": 52,
      "outputs": [
        {
          "output_type": "stream",
          "text": [
            "Found 7750 images belonging to 2 classes.\n"
          ],
          "name": "stdout"
        }
      ]
    },
    {
      "cell_type": "code",
      "metadata": {
        "id": "dYhDhcbJ6hVi",
        "colab_type": "code",
        "colab": {
          "base_uri": "https://localhost:8080/",
          "height": 34
        },
        "outputId": "caa7b962-b3b2-4fd0-9164-25c53c6eab64"
      },
      "source": [
        "val_datagen = ImageDataGenerator(preprocessing_function = preprocess_input)\n",
        "val_set = val_datagen.flow_from_directory('/content/chest_xray/val/',\n",
        "        target_size=(256,256),\n",
        "        batch_size=32,\n",
        "        class_mode='binary')"
      ],
      "execution_count": 53,
      "outputs": [
        {
          "output_type": "stream",
          "text": [
            "Found 16 images belonging to 2 classes.\n"
          ],
          "name": "stdout"
        }
      ]
    },
    {
      "cell_type": "code",
      "metadata": {
        "id": "14CSlVCZ7R1K",
        "colab_type": "code",
        "colab": {
          "base_uri": "https://localhost:8080/",
          "height": 34
        },
        "outputId": "c92280f9-2db9-401b-a374-743e780c70b4"
      },
      "source": [
        "test_datagen = ImageDataGenerator(preprocessing_function = preprocess_input)\n",
        "test_set = train_datagen.flow_from_directory('/content/chest_xray/test/',\n",
        "        target_size=(256,256),\n",
        "        batch_size=16,\n",
        "        class_mode='binary',\n",
        "        shuffle=False)"
      ],
      "execution_count": 81,
      "outputs": [
        {
          "output_type": "stream",
          "text": [
            "Found 624 images belonging to 2 classes.\n"
          ],
          "name": "stdout"
        }
      ]
    },
    {
      "cell_type": "markdown",
      "metadata": {
        "id": "qSl4ilaT7e6-",
        "colab_type": "text"
      },
      "source": [
        "# **PREVEIWING THE IMAGES**"
      ]
    },
    {
      "cell_type": "markdown",
      "metadata": {
        "id": "3yd53gKY7jgD",
        "colab_type": "text"
      },
      "source": [
        "**THE IMAGE OF PNEUMONIC LUNG**"
      ]
    },
    {
      "cell_type": "code",
      "metadata": {
        "id": "DYteqteJ7Yrh",
        "colab_type": "code",
        "colab": {}
      },
      "source": [
        "image=\"/content/chest_xray/train/PNEUMONIA/person1000_bacteria_2931.jpeg\"\n",
        "PIL.Image.open(image)"
      ],
      "execution_count": null,
      "outputs": []
    },
    {
      "cell_type": "markdown",
      "metadata": {
        "id": "g-i9eNUE8iFV",
        "colab_type": "text"
      },
      "source": [
        "**THE IMAGE OF NORMAL LUNG**"
      ]
    },
    {
      "cell_type": "code",
      "metadata": {
        "id": "JGrpjQy68b8p",
        "colab_type": "code",
        "colab": {}
      },
      "source": [
        "image=\"/content/chest_xray/train/NORMAL/IM-0115-0001.jpeg\"\n",
        "PIL.Image.open(image)"
      ],
      "execution_count": null,
      "outputs": []
    },
    {
      "cell_type": "markdown",
      "metadata": {
        "id": "2N1x3azV9B1w",
        "colab_type": "text"
      },
      "source": [
        "# **BUILDING THE CNN**"
      ]
    },
    {
      "cell_type": "markdown",
      "metadata": {
        "id": "hURlZjXL9JSe",
        "colab_type": "text"
      },
      "source": [
        "**INITIALISING THE CNN**"
      ]
    },
    {
      "cell_type": "code",
      "metadata": {
        "id": "rON-V91s86VW",
        "colab_type": "code",
        "colab": {}
      },
      "source": [
        "cnn = tf.keras.models.Sequential()"
      ],
      "execution_count": 216,
      "outputs": []
    },
    {
      "cell_type": "markdown",
      "metadata": {
        "id": "u5K9TY7a9RYn",
        "colab_type": "text"
      },
      "source": [
        "**STEP-1 CONVOLUTION LAYER**"
      ]
    },
    {
      "cell_type": "code",
      "metadata": {
        "id": "bqsNIALF9N7R",
        "colab_type": "code",
        "colab": {}
      },
      "source": [
        "cnn.add(tf.keras.layers.Conv2D(filters=128, kernel_size=3 ,\n",
        "                               activation='relu',input_shape=[256,256,3]))"
      ],
      "execution_count": 217,
      "outputs": []
    },
    {
      "cell_type": "markdown",
      "metadata": {
        "id": "A98CBTss9a4t",
        "colab_type": "text"
      },
      "source": [
        "**STEP-2 POOLING**"
      ]
    },
    {
      "cell_type": "code",
      "metadata": {
        "id": "EXAh-aXv9XBz",
        "colab_type": "code",
        "colab": {}
      },
      "source": [
        "cnn.add(tf.keras.layers.MaxPool2D(pool_size=2,strides = 2))"
      ],
      "execution_count": 218,
      "outputs": []
    },
    {
      "cell_type": "markdown",
      "metadata": {
        "id": "ThgMW2G89jdq",
        "colab_type": "text"
      },
      "source": [
        "**ADDING SECOND CONVOLUTION LAYER**"
      ]
    },
    {
      "cell_type": "code",
      "metadata": {
        "id": "2q7jijRs9gZ_",
        "colab_type": "code",
        "colab": {}
      },
      "source": [
        "cnn.add(tf.keras.layers.Conv2D(filters=256 , kernel_size=3 ,\n",
        "                               activation='relu'))\n",
        "\n",
        "#remove input_shape this is used to connect 1st layer to input layer\n",
        "cnn.add(tf.keras.layers.MaxPool2D(pool_size=2,strides=2))\n",
        "\n",
        "cnn.add(tf.keras.layers.Conv2D(filters=256 , kernel_size=3 ,\n",
        "                               activation='relu'))\n",
        "\n",
        "#remove input_shape this is used to connect 1st layer to input layer\n",
        "cnn.add(tf.keras.layers.MaxPool2D(pool_size=2,strides=2))\n",
        "\n",
        "cnn.add(tf.keras.layers.Conv2D(filters=512 , kernel_size=3 ,\n",
        "                               activation='relu'))\n",
        "\n",
        "#remove input_shape this is used to connect 1st layer to input layer\n",
        "cnn.add(tf.keras.layers.MaxPool2D(pool_size=2,strides=2))\n",
        "\n",
        "cnn.add(tf.keras.layers.Conv2D(filters=512 , kernel_size=3 ,\n",
        "                               activation='relu'))\n",
        "\n",
        "#remove input_shape this is used to connect 1st layer to input layer\n",
        "cnn.add(tf.keras.layers.MaxPool2D(pool_size=2,strides=2))"
      ],
      "execution_count": 219,
      "outputs": []
    },
    {
      "cell_type": "markdown",
      "metadata": {
        "id": "0R7AifFg9yo9",
        "colab_type": "text"
      },
      "source": [
        "**STEP-4 FLATTENING**"
      ]
    },
    {
      "cell_type": "code",
      "metadata": {
        "id": "UAEoIAj_9sx2",
        "colab_type": "code",
        "colab": {}
      },
      "source": [
        "cnn.add(tf.keras.layers.Flatten())"
      ],
      "execution_count": 220,
      "outputs": []
    },
    {
      "cell_type": "markdown",
      "metadata": {
        "id": "61BNTEEK97xD",
        "colab_type": "text"
      },
      "source": [
        "**STEP-4 FULL CONNECTION**"
      ]
    },
    {
      "cell_type": "code",
      "metadata": {
        "id": "TPXufzht94rF",
        "colab_type": "code",
        "colab": {}
      },
      "source": [
        "cnn.add(tf.keras.layers.Dense(units=1024,activation='relu'))\n",
        "#128 hidden neurons"
      ],
      "execution_count": 221,
      "outputs": []
    },
    {
      "cell_type": "markdown",
      "metadata": {
        "id": "vDb5VROj-KWR",
        "colab_type": "text"
      },
      "source": [
        "**STEP-5 OUTPUT LAYER**"
      ]
    },
    {
      "cell_type": "code",
      "metadata": {
        "id": "tWwHs2BY-ASA",
        "colab_type": "code",
        "colab": {}
      },
      "source": [
        "cnn.add(tf.keras.layers.Dense(units=1,activation='sigmoid'))"
      ],
      "execution_count": 222,
      "outputs": []
    },
    {
      "cell_type": "code",
      "metadata": {
        "id": "MncZJcITPFoq",
        "colab_type": "code",
        "colab": {
          "base_uri": "https://localhost:8080/",
          "height": 588
        },
        "outputId": "84dcd76c-03c1-4076-92a8-d75b7bddc121"
      },
      "source": [
        "cnn.summary()"
      ],
      "execution_count": 223,
      "outputs": [
        {
          "output_type": "stream",
          "text": [
            "Model: \"sequential_3\"\n",
            "_________________________________________________________________\n",
            "Layer (type)                 Output Shape              Param #   \n",
            "=================================================================\n",
            "conv2d_8 (Conv2D)            (None, 254, 254, 128)     3584      \n",
            "_________________________________________________________________\n",
            "max_pooling2d_8 (MaxPooling2 (None, 127, 127, 128)     0         \n",
            "_________________________________________________________________\n",
            "conv2d_9 (Conv2D)            (None, 125, 125, 256)     295168    \n",
            "_________________________________________________________________\n",
            "max_pooling2d_9 (MaxPooling2 (None, 62, 62, 256)       0         \n",
            "_________________________________________________________________\n",
            "conv2d_10 (Conv2D)           (None, 60, 60, 256)       590080    \n",
            "_________________________________________________________________\n",
            "max_pooling2d_10 (MaxPooling (None, 30, 30, 256)       0         \n",
            "_________________________________________________________________\n",
            "conv2d_11 (Conv2D)           (None, 28, 28, 512)       1180160   \n",
            "_________________________________________________________________\n",
            "max_pooling2d_11 (MaxPooling (None, 14, 14, 512)       0         \n",
            "_________________________________________________________________\n",
            "conv2d_12 (Conv2D)           (None, 12, 12, 512)       2359808   \n",
            "_________________________________________________________________\n",
            "max_pooling2d_12 (MaxPooling (None, 6, 6, 512)         0         \n",
            "_________________________________________________________________\n",
            "flatten_2 (Flatten)          (None, 18432)             0         \n",
            "_________________________________________________________________\n",
            "dense_4 (Dense)              (None, 1024)              18875392  \n",
            "_________________________________________________________________\n",
            "dense_5 (Dense)              (None, 1)                 1025      \n",
            "=================================================================\n",
            "Total params: 23,305,217\n",
            "Trainable params: 23,305,217\n",
            "Non-trainable params: 0\n",
            "_________________________________________________________________\n"
          ],
          "name": "stdout"
        }
      ]
    },
    {
      "cell_type": "markdown",
      "metadata": {
        "id": "GGtpPFRU-cY3",
        "colab_type": "text"
      },
      "source": [
        "# **TRAINING THE CNN**"
      ]
    },
    {
      "cell_type": "markdown",
      "metadata": {
        "id": "GCEO2nKi-jjB",
        "colab_type": "text"
      },
      "source": [
        "**COMPILING THE CNN**"
      ]
    },
    {
      "cell_type": "code",
      "metadata": {
        "id": "gpTqcUG5-Y69",
        "colab_type": "code",
        "colab": {}
      },
      "source": [
        "cnn.compile(optimizer=tf.keras.optimizers.Adam(0.0001,decay=0.00001),loss = 'binary_crossentropy',metrics=['accuracy',tf.keras.metrics.AUC()])"
      ],
      "execution_count": 224,
      "outputs": []
    },
    {
      "cell_type": "markdown",
      "metadata": {
        "id": "zmOuwsOX-ubq",
        "colab_type": "text"
      },
      "source": [
        "**TRAINING THE CNN ON TRAINING SET AND EVALUATING ON VALIDATION SET**"
      ]
    },
    {
      "cell_type": "code",
      "metadata": {
        "id": "c7WKulIe-rB6",
        "colab_type": "code",
        "colab": {
          "base_uri": "https://localhost:8080/",
          "height": 205
        },
        "outputId": "60fd83d6-61df-4007-b23b-d627e9c0028a"
      },
      "source": [
        "cnn.fit(x = training_set , validation_data=val_set , epochs = 10)"
      ],
      "execution_count": null,
      "outputs": [
        {
          "output_type": "stream",
          "text": [
            "Epoch 1/10\n",
            "243/243 [==============================] - 298s 1s/step - loss: 0.4579 - accuracy: 0.7697 - auc_2: 0.8645 - val_loss: 0.5770 - val_accuracy: 0.7500 - val_auc_2: 0.8125\n",
            "Epoch 2/10\n",
            "243/243 [==============================] - 298s 1s/step - loss: 0.3441 - accuracy: 0.8525 - auc_2: 0.9274 - val_loss: 0.6232 - val_accuracy: 0.8125 - val_auc_2: 0.8125\n",
            "Epoch 3/10\n",
            "243/243 [==============================] - 296s 1s/step - loss: 0.3045 - accuracy: 0.8729 - auc_2: 0.9434 - val_loss: 0.6910 - val_accuracy: 0.6875 - val_auc_2: 0.7969\n",
            "Epoch 4/10\n",
            "243/243 [==============================] - 297s 1s/step - loss: 0.2671 - accuracy: 0.8906 - auc_2: 0.9560 - val_loss: 0.6740 - val_accuracy: 0.6875 - val_auc_2: 0.8438\n",
            "Epoch 5/10\n",
            " 88/243 [=========>....................] - ETA: 3:08 - loss: 0.2843 - accuracy: 0.8782 - auc_2: 0.9502"
          ],
          "name": "stdout"
        }
      ]
    },
    {
      "cell_type": "code",
      "metadata": {
        "id": "PUrj3k2B-ze9",
        "colab_type": "code",
        "colab": {
          "base_uri": "https://localhost:8080/",
          "height": 84
        },
        "outputId": "d00e77fc-f488-48d4-ac3a-7b2d2ad05e76"
      },
      "source": [
        "print(\"Loss of the model is - \" , cnn.evaluate(test_set)[0]*100 , \"%\")\n",
        "print(\"Accuracy of the model is - \" , cnn.evaluate(test_set)[1]*100 , \"%\")"
      ],
      "execution_count": 69,
      "outputs": [
        {
          "output_type": "stream",
          "text": [
            "20/20 [==============================] - 17s 860ms/step - loss: 0.3897 - accuracy: 0.8510 - auc_1: 0.9374\n",
            "Loss of the model is -  38.97256553173065 %\n",
            "20/20 [==============================] - 17s 858ms/step - loss: 0.4290 - accuracy: 0.8381 - auc_1: 0.9273\n",
            "Accuracy of the model is -  83.81410241127014 %\n"
          ],
          "name": "stdout"
        }
      ]
    },
    {
      "cell_type": "markdown",
      "metadata": {
        "id": "zbM2CEd7p7Z0",
        "colab_type": "text"
      },
      "source": [
        "**MAKING A SINGLE PREDICITION**"
      ]
    },
    {
      "cell_type": "code",
      "metadata": {
        "id": "eTY696dbpZzi",
        "colab_type": "code",
        "colab": {
          "base_uri": "https://localhost:8080/",
          "height": 34
        },
        "outputId": "f7d67911-26b0-43d4-8538-339938687ae8"
      },
      "source": [
        "import numpy as np\n",
        "from keras.preprocessing import image\n",
        "test_image = image.load_img('/content/chest_xray/test/NORMAL/NORMAL2-IM-0381-0001.jpeg',target_size=(256,256)) \n",
        "#we change size to 64,64 same as in training and test set\n",
        "#convert PIL into array as predict accept 2d array\n",
        "test_image = image.img_to_array(test_image)\n",
        "#in data pre. our network is trained in batches even if we apply predicion on single image we need to specify as image\n",
        "test_image = np.expand_dims(test_image, axis=0)\n",
        "#we are adding dim which is batch ... batch is first dim because first we have dim then in batch we have image color etc.. so axis-0\n",
        "result = cnn.predict(test_image)\n",
        "if result[0][0]== 1 :\n",
        "  prediction = 'PNEUMONIA'\n",
        "else:\n",
        "  prediction = 'NORMAL'\n",
        "print(prediction)\n"
      ],
      "execution_count": 73,
      "outputs": [
        {
          "output_type": "stream",
          "text": [
            "NORMAL\n"
          ],
          "name": "stdout"
        }
      ]
    },
    {
      "cell_type": "code",
      "metadata": {
        "id": "eL2t979vq5Hf",
        "colab_type": "code",
        "colab": {}
      },
      "source": [
        "y_true = np.array([])\n",
        "y_pred = np.array([])\n",
        "for i in range(39):\n",
        "    X,y = test_set.next()\n",
        "    preds = cnn.predict(X)\n",
        "    y_true = np.append(y_true,y)\n",
        "    y_pred = np.append(y_pred,preds)"
      ],
      "execution_count": 82,
      "outputs": []
    },
    {
      "cell_type": "markdown",
      "metadata": {
        "id": "daA6K0RlfePJ",
        "colab_type": "text"
      },
      "source": [
        "### Metrics (DO NOT TOUCH THIS)"
      ]
    },
    {
      "cell_type": "code",
      "metadata": {
        "id": "XG8yJQewcjSl",
        "colab_type": "code",
        "colab": {}
      },
      "source": [
        "from sklearn.metrics import roc_auc_score, roc_curve, f1_score, precision_recall_curve, confusion_matrix, average_precision_score\n",
        "import seaborn as sns"
      ],
      "execution_count": 159,
      "outputs": []
    },
    {
      "cell_type": "code",
      "metadata": {
        "hidden": true,
        "id": "kpT8np6skUH5",
        "colab_type": "code",
        "colab": {}
      },
      "source": [
        "#util_wk2\n",
        "def TP(y, pred, th=0.5):\n",
        "    pred_t = (pred > th)\n",
        "    return np.sum((pred_t == True) & (y == 1))\n",
        "\n",
        "\n",
        "def TN(y, pred, th=0.5):\n",
        "    pred_t = (pred > th)\n",
        "    return np.sum((pred_t == False) & (y == 0))\n",
        "\n",
        "\n",
        "def FN(y, pred, th=0.5):\n",
        "    pred_t = (pred > th)\n",
        "    return np.sum((pred_t == False) & (y == 1))\n",
        "\n",
        "\n",
        "def FP(y, pred, th=0.5):\n",
        "    pred_t = (pred > th)\n",
        "    return np.sum((pred_t == True) & (y == 0))\n",
        "\n",
        "def get_accuracy(y, pred, th=0.5):\n",
        "    tp = TP(y,pred,th)\n",
        "    fp = FP(y,pred,th)\n",
        "    tn = TN(y,pred,th)\n",
        "    fn = FN(y,pred,th)\n",
        "    \n",
        "    return (tp+tn)/(tp+fp+tn+fn)\n",
        "\n",
        "def get_prevalence(y):\n",
        "    return np.sum(y)/y.shape[0]\n",
        "\n",
        "def sensitivity(y, pred, th=0.5):\n",
        "    tp = TP(y,pred,th)\n",
        "    fn = FN(y,pred,th)\n",
        "    \n",
        "    return tp/(tp+fn)\n",
        "\n",
        "def specificity(y, pred, th=0.5):\n",
        "    tn = TN(y,pred,th)\n",
        "    fp = FP(y,pred,th)\n",
        "    \n",
        "    return tn/(tn+fp)\n",
        "\n",
        "def get_ppv(y, pred, th=0.5):\n",
        "    tp = TP(y,pred,th)\n",
        "    fp = FP(y,pred,th)\n",
        "    \n",
        "    return tp/(tp+fp)\n",
        "\n",
        "def get_npv(y, pred, th=0.5):\n",
        "    tn = TN(y,pred,th)\n",
        "    fn = FN(y,pred,th)\n",
        "    \n",
        "    return tn/(tn+fn)\n",
        "\n",
        "\n",
        "def get_performance_metrics(y, pred, class_labels, tp=TP,\n",
        "                            tn=TN, fp=FP,\n",
        "                            fn=FN,\n",
        "                            acc=get_accuracy, prevalence=get_prevalence, \n",
        "                            spec=specificity,sens=sensitivity, ppv=get_ppv, \n",
        "                            npv=get_npv, auc=roc_auc_score, f1=f1_score,\n",
        "                            thresholds=[]):\n",
        "    if len(thresholds) != len(class_labels):\n",
        "        thresholds = [.5] * len(class_labels)\n",
        "\n",
        "    columns = [\"\", \"TP\", \"TN\", \"FP\", \"FN\", \"Accuracy\", \"Prevalence\",\n",
        "               \"Sensitivity\",\n",
        "               \"Specificity\", \"PPV\", \"NPV\", \"AUC\", \"F1\", \"Threshold\"]\n",
        "    df = pd.DataFrame(columns=columns)\n",
        "    for i in range(len(class_labels)):\n",
        "        df.loc[i] = [\"\"] + [0] * (len(columns) - 1)\n",
        "        df.loc[i][0] = class_labels[i]\n",
        "        df.loc[i][1] = round(tp(y[:, i], pred[:, i]),\n",
        "                             3) if tp != None else \"Not Defined\"\n",
        "        df.loc[i][2] = round(tn(y[:, i], pred[:, i]),\n",
        "                             3) if tn != None else \"Not Defined\"\n",
        "        df.loc[i][3] = round(fp(y[:, i], pred[:, i]),\n",
        "                             3) if fp != None else \"Not Defined\"\n",
        "        df.loc[i][4] = round(fn(y[:, i], pred[:, i]),\n",
        "                             3) if fn != None else \"Not Defined\"\n",
        "        df.loc[i][5] = round(acc(y[:, i], pred[:, i], thresholds[i]),\n",
        "                             3) if acc != None else \"Not Defined\"\n",
        "        df.loc[i][6] = round(prevalence(y[:, i]),\n",
        "                             3) if prevalence != None else \"Not Defined\"\n",
        "        df.loc[i][7] = round(sens(y[:, i], pred[:, i], thresholds[i]),\n",
        "                             3) if sens != None else \"Not Defined\"\n",
        "        df.loc[i][8] = round(spec(y[:, i], pred[:, i], thresholds[i]),\n",
        "                             3) if spec != None else \"Not Defined\"\n",
        "        df.loc[i][9] = round(ppv(y[:, i], pred[:, i], thresholds[i]),\n",
        "                             3) if ppv != None else \"Not Defined\"\n",
        "        df.loc[i][10] = round(npv(y[:, i], pred[:, i], thresholds[i]),\n",
        "                              3) if npv != None else \"Not Defined\"\n",
        "        df.loc[i][11] = round(auc(y[:, i], pred[:, i]),\n",
        "                              3) if auc != None else \"Not Defined\"\n",
        "        df.loc[i][12] = round(f1(y[:, i], pred[:, i] > thresholds[i]),\n",
        "                              3) if f1 != None else \"Not Defined\"\n",
        "        df.loc[i][13] = round(thresholds[i], 3)\n",
        "\n",
        "    df = df.set_index(\"\")\n",
        "    return df\n",
        "\n",
        "def bootstrap_metric(y, pred, classes, metric='auc',bootstraps = 100, fold_size = 1000):\n",
        "    statistics = np.zeros((len(classes), bootstraps))\n",
        "    if metric=='AUC':\n",
        "        metric_func = roc_auc_score\n",
        "    if metric=='Sensitivity':\n",
        "        metric_func = sensitivity\n",
        "    if metric=='Specificity':\n",
        "        metric_func = specificity\n",
        "    if metric=='Accuracy':\n",
        "        metric_func = get_accuracy\n",
        "    for c in range(len(classes)):\n",
        "        df = pd.DataFrame(columns=['y', 'pred'])\n",
        "        df.loc[:, 'y'] = y[:, c]\n",
        "        df.loc[:, 'pred'] = pred[:, c]\n",
        "        # get positive examples for stratified sampling\n",
        "        df_pos = df[df.y == 1]\n",
        "        df_neg = df[df.y == 0]\n",
        "        prevalence = len(df_pos) / len(df)\n",
        "        for i in range(bootstraps):\n",
        "            # stratified sampling of positive and negative examples\n",
        "            pos_sample = df_pos.sample(n = int(fold_size * prevalence), replace=True)\n",
        "            neg_sample = df_neg.sample(n = int(fold_size * (1-prevalence)), replace=True)\n",
        "\n",
        "            y_sample = np.concatenate([pos_sample.y.values, neg_sample.y.values])\n",
        "            pred_sample = np.concatenate([pos_sample.pred.values, neg_sample.pred.values])\n",
        "            score = metric_func(y_sample, pred_sample)\n",
        "            statistics[c][i] = score\n",
        "    return statistics\n",
        "\n",
        "def get_confidence_intervals(y,pred,class_labels):\n",
        "    \n",
        "    metric_dfs = {}\n",
        "    for metric in ['AUC','Sensitivity','Specificity','Accuracy']:\n",
        "        statistics = bootstrap_metric(y,pred,class_labels,metric)\n",
        "        df = pd.DataFrame(columns=[\"Mean \"+metric+\" (CI 5%-95%)\"])\n",
        "        for i in range(len(class_labels)):\n",
        "            mean = statistics.mean(axis=1)[i]\n",
        "            max_ = np.quantile(statistics, .95, axis=1)[i]\n",
        "            min_ = np.quantile(statistics, .05, axis=1)[i]\n",
        "            df.loc[class_labels[i]] = [\"%.2f (%.2f-%.2f)\" % (mean, min_, max_)]\n",
        "        metric_dfs[metric] = df\n",
        "    return metric_dfs\n"
      ],
      "execution_count": 146,
      "outputs": []
    },
    {
      "cell_type": "code",
      "metadata": {
        "hidden": true,
        "id": "TRMFODDikUIB",
        "colab_type": "code",
        "colab": {}
      },
      "source": [
        "def get_roc_curve(gt, pred, target_names):\n",
        "    for i in range(len(target_names)):\n",
        "        curve_function = roc_curve\n",
        "        auc_roc = roc_auc_score(gt[:, i], pred[:, i])\n",
        "        label = target_names[i] + \" AUC: %.3f \" % auc_roc\n",
        "        xlabel = \"False positive rate\"\n",
        "        ylabel = \"True positive rate\"\n",
        "        a, b, _ = curve_function(gt[:, i], pred[:, i])\n",
        "        plt.figure(1, figsize=(7, 7))\n",
        "        plt.plot([0, 1], [0, 1], 'k--')\n",
        "        plt.plot(a, b, label=label)\n",
        "        plt.xlabel(xlabel)\n",
        "        plt.ylabel(ylabel)\n",
        "        plt.legend(loc='upper center', bbox_to_anchor=(1.3, 1),\n",
        "                       fancybox=True, ncol=1)\n",
        "        plt.savefig('ROC_Curve.png')\n",
        "        plt.show()"
      ],
      "execution_count": 156,
      "outputs": []
    },
    {
      "cell_type": "code",
      "metadata": {
        "hidden": true,
        "id": "Inw3SVknkUID",
        "colab_type": "code",
        "colab": {}
      },
      "source": [
        "def get_PR_curve(gt, pred, target_names):\n",
        "    for i in range(len(target_names)):\n",
        "        precision, recall, _ = precision_recall_curve(gt[:, i], pred[:, i])\n",
        "        average_precision = average_precision_score(gt[:, i], pred[:, i])\n",
        "        label = target_names[i] + \" Avg.: %.3f \" % average_precision\n",
        "        plt.figure(1, figsize=(7, 7))\n",
        "        plt.step(recall, precision, where='post', label=label)\n",
        "        plt.xlabel('Recall')\n",
        "        plt.ylabel('Precision')\n",
        "        plt.ylim([0.0, 1.05])\n",
        "        plt.xlim([0.0, 1.0])\n",
        "        plt.legend(loc='upper center', bbox_to_anchor=(1.3, 1),\n",
        "                       fancybox=True, ncol=1)\n",
        "        plt.savefig('Precision_and_Recall_curve.png')\n",
        "        plt.show()"
      ],
      "execution_count": 148,
      "outputs": []
    },
    {
      "cell_type": "code",
      "metadata": {
        "hidden": true,
        "id": "mviMdmIlkUIG",
        "colab_type": "code",
        "colab": {}
      },
      "source": [
        "def plot_confusion_matrix(y_true,y_pred,class_labels):\n",
        "    cm = confusion_matrix(y_true, y_pred, labels=class_labels)\n",
        "    cm_sum = np.sum(cm, axis=1, keepdims=True)\n",
        "    cm_perc = cm / cm_sum.astype(float) * 100\n",
        "    annot = np.empty_like(cm).astype(str)\n",
        "    nrows, ncols = cm.shape\n",
        "    for i in range(nrows):\n",
        "        for j in range(ncols):\n",
        "            c = cm[i, j]\n",
        "            p = cm_perc[i, j]\n",
        "            if i == j:\n",
        "                s = cm_sum[i]\n",
        "                annot[i, j] = '%.1f%%\\n%d/%d' % (p, c, s)\n",
        "            elif c == 0:\n",
        "                annot[i, j] = ''\n",
        "            else:\n",
        "                annot[i, j] = '%.1f%%\\n%d' % (p, c)\n",
        "    cm = pd.DataFrame(cm, index=class_labels, columns=class_labels)\n",
        "    cm.index.name = 'Actual'\n",
        "    cm.columns.name = 'Predicted'\n",
        "    fig, ax = plt.subplots(figsize=(4,4))\n",
        "    sns.heatmap(cm, cmap= \"YlGnBu\", annot=annot, fmt='', ax=ax)\n",
        "    fig.savefig('Confusion_Matrix.png')\n",
        "    plt.show()"
      ],
      "execution_count": 151,
      "outputs": []
    },
    {
      "cell_type": "code",
      "metadata": {
        "hidden": true,
        "id": "i611AmBdkUII",
        "colab_type": "code",
        "colab": {}
      },
      "source": [
        "def plot_perf_metrics_errbars(y,pred,class_labels):\n",
        "    metric_dfs = get_confidence_intervals(y,pred,class_labels)\n",
        "    metrics = list(metric_dfs.keys())\n",
        "    fig,axs = plt.subplots(len(metrics),1,sharey=True,figsize = (4,16))\n",
        "    for i in range(len(metrics)):\n",
        "        ci = metric_dfs[metrics[i]][['Mean '+metrics[i]+' (CI 5%-95%)']].values[0]\n",
        "        ci_mean,ci_ints = ci[0].split(' ')\n",
        "        ci_mean = float(ci_mean)\n",
        "        ci_min,ci_max = list(map(float,ci_ints.strip('()').split('-')))\n",
        "        ci_err = (ci_max-ci_min)/2\n",
        "        \n",
        "        axs[i].errorbar(class_labels,ci_mean,yerr=ci_err,capsize=5,fmt='dk')\n",
        "        axs[i].set_ylabel(metrics[i])\n",
        "    fig.savefig('Performance_Metrics_95percentCI.png')\n",
        "    plt.show()"
      ],
      "execution_count": 206,
      "outputs": []
    },
    {
      "cell_type": "markdown",
      "metadata": {
        "id": "jPJDrPCRfiPI",
        "colab_type": "text"
      },
      "source": [
        "### Metrics PLots"
      ]
    },
    {
      "cell_type": "code",
      "metadata": {
        "id": "3kUljWXlf0tk",
        "colab_type": "code",
        "colab": {}
      },
      "source": [
        "y_true = y_true.astype('int')\n",
        "y_pred_th = y_pred_th.round()\n",
        "y_pred_th = y_pred_th.astype('int')"
      ],
      "execution_count": 211,
      "outputs": []
    },
    {
      "cell_type": "code",
      "metadata": {
        "id": "7ZTSyDt6oRAT",
        "colab_type": "code",
        "colab": {
          "base_uri": "https://localhost:8080/",
          "height": 90
        },
        "outputId": "c04f8bc3-0892-4ad0-8d4f-b5bb595d59a6"
      },
      "source": [
        "get_performance_metrics(y_true.reshape(-1,1),y_pred.reshape(-1,1),['PNEUMONIA'])"
      ],
      "execution_count": 172,
      "outputs": [
        {
          "output_type": "execute_result",
          "data": {
            "text/html": [
              "<div>\n",
              "<style scoped>\n",
              "    .dataframe tbody tr th:only-of-type {\n",
              "        vertical-align: middle;\n",
              "    }\n",
              "\n",
              "    .dataframe tbody tr th {\n",
              "        vertical-align: top;\n",
              "    }\n",
              "\n",
              "    .dataframe thead th {\n",
              "        text-align: right;\n",
              "    }\n",
              "</style>\n",
              "<table border=\"1\" class=\"dataframe\">\n",
              "  <thead>\n",
              "    <tr style=\"text-align: right;\">\n",
              "      <th></th>\n",
              "      <th>TP</th>\n",
              "      <th>TN</th>\n",
              "      <th>FP</th>\n",
              "      <th>FN</th>\n",
              "      <th>Accuracy</th>\n",
              "      <th>Prevalence</th>\n",
              "      <th>Sensitivity</th>\n",
              "      <th>Specificity</th>\n",
              "      <th>PPV</th>\n",
              "      <th>NPV</th>\n",
              "      <th>AUC</th>\n",
              "      <th>F1</th>\n",
              "      <th>Threshold</th>\n",
              "    </tr>\n",
              "    <tr>\n",
              "      <th></th>\n",
              "      <th></th>\n",
              "      <th></th>\n",
              "      <th></th>\n",
              "      <th></th>\n",
              "      <th></th>\n",
              "      <th></th>\n",
              "      <th></th>\n",
              "      <th></th>\n",
              "      <th></th>\n",
              "      <th></th>\n",
              "      <th></th>\n",
              "      <th></th>\n",
              "      <th></th>\n",
              "    </tr>\n",
              "  </thead>\n",
              "  <tbody>\n",
              "    <tr>\n",
              "      <th>PNEUMONIA</th>\n",
              "      <td>381</td>\n",
              "      <td>146</td>\n",
              "      <td>88</td>\n",
              "      <td>9</td>\n",
              "      <td>0.845</td>\n",
              "      <td>0.625</td>\n",
              "      <td>0.977</td>\n",
              "      <td>0.624</td>\n",
              "      <td>0.812</td>\n",
              "      <td>0.942</td>\n",
              "      <td>0.936</td>\n",
              "      <td>0.887</td>\n",
              "      <td>0.5</td>\n",
              "    </tr>\n",
              "  </tbody>\n",
              "</table>\n",
              "</div>"
            ],
            "text/plain": [
              "            TP   TN  FP FN Accuracy  ...    PPV    NPV    AUC     F1 Threshold\n",
              "                                     ...                                      \n",
              "PNEUMONIA  381  146  88  9    0.845  ...  0.812  0.942  0.936  0.887       0.5\n",
              "\n",
              "[1 rows x 13 columns]"
            ]
          },
          "metadata": {
            "tags": []
          },
          "execution_count": 172
        }
      ]
    },
    {
      "cell_type": "code",
      "metadata": {
        "id": "2aJyW-caeNfk",
        "colab_type": "code",
        "colab": {}
      },
      "source": [
        "GCI = get_confidence_intervals(y_true.reshape(-1,1),y_pred.reshape(-1,1),['PNEUMONIA'])"
      ],
      "execution_count": null,
      "outputs": []
    },
    {
      "cell_type": "code",
      "metadata": {
        "id": "7H1aQ5bKn3bH",
        "colab_type": "code",
        "colab": {
          "base_uri": "https://localhost:8080/",
          "height": 77
        },
        "outputId": "ec62c9df-d338-44fa-fd0b-0b6c4f91a526"
      },
      "source": [
        "GCI['AUC']"
      ],
      "execution_count": null,
      "outputs": [
        {
          "output_type": "execute_result",
          "data": {
            "text/html": [
              "<div>\n",
              "<style scoped>\n",
              "    .dataframe tbody tr th:only-of-type {\n",
              "        vertical-align: middle;\n",
              "    }\n",
              "\n",
              "    .dataframe tbody tr th {\n",
              "        vertical-align: top;\n",
              "    }\n",
              "\n",
              "    .dataframe thead th {\n",
              "        text-align: right;\n",
              "    }\n",
              "</style>\n",
              "<table border=\"1\" class=\"dataframe\">\n",
              "  <thead>\n",
              "    <tr style=\"text-align: right;\">\n",
              "      <th></th>\n",
              "      <th>Mean AUC (CI 5%-95%)</th>\n",
              "    </tr>\n",
              "  </thead>\n",
              "  <tbody>\n",
              "    <tr>\n",
              "      <th>PNEUMONIA</th>\n",
              "      <td>0.94 (0.92-0.95)</td>\n",
              "    </tr>\n",
              "  </tbody>\n",
              "</table>\n",
              "</div>"
            ],
            "text/plain": [
              "          Mean AUC (CI 5%-95%)\n",
              "PNEUMONIA     0.94 (0.92-0.95)"
            ]
          },
          "metadata": {
            "tags": []
          },
          "execution_count": 168
        }
      ]
    },
    {
      "cell_type": "code",
      "metadata": {
        "id": "gbXJesv6n9jM",
        "colab_type": "code",
        "colab": {
          "base_uri": "https://localhost:8080/",
          "height": 77
        },
        "outputId": "7f8596b6-fe78-46b1-9eb5-9213ffad465b"
      },
      "source": [
        "GCI['Accuracy']"
      ],
      "execution_count": null,
      "outputs": [
        {
          "output_type": "execute_result",
          "data": {
            "text/html": [
              "<div>\n",
              "<style scoped>\n",
              "    .dataframe tbody tr th:only-of-type {\n",
              "        vertical-align: middle;\n",
              "    }\n",
              "\n",
              "    .dataframe tbody tr th {\n",
              "        vertical-align: top;\n",
              "    }\n",
              "\n",
              "    .dataframe thead th {\n",
              "        text-align: right;\n",
              "    }\n",
              "</style>\n",
              "<table border=\"1\" class=\"dataframe\">\n",
              "  <thead>\n",
              "    <tr style=\"text-align: right;\">\n",
              "      <th></th>\n",
              "      <th>Mean Accuracy (CI 5%-95%)</th>\n",
              "    </tr>\n",
              "  </thead>\n",
              "  <tbody>\n",
              "    <tr>\n",
              "      <th>PNEUMONIA</th>\n",
              "      <td>0.85 (0.83-0.86)</td>\n",
              "    </tr>\n",
              "  </tbody>\n",
              "</table>\n",
              "</div>"
            ],
            "text/plain": [
              "          Mean Accuracy (CI 5%-95%)\n",
              "PNEUMONIA          0.85 (0.83-0.86)"
            ]
          },
          "metadata": {
            "tags": []
          },
          "execution_count": 169
        }
      ]
    },
    {
      "cell_type": "code",
      "metadata": {
        "id": "qTswJSBhn-Hc",
        "colab_type": "code",
        "colab": {
          "base_uri": "https://localhost:8080/",
          "height": 77
        },
        "outputId": "f8d0a9b7-287f-45bc-92ea-eed17d32e128"
      },
      "source": [
        "GCI['Sensitivity']"
      ],
      "execution_count": null,
      "outputs": [
        {
          "output_type": "execute_result",
          "data": {
            "text/html": [
              "<div>\n",
              "<style scoped>\n",
              "    .dataframe tbody tr th:only-of-type {\n",
              "        vertical-align: middle;\n",
              "    }\n",
              "\n",
              "    .dataframe tbody tr th {\n",
              "        vertical-align: top;\n",
              "    }\n",
              "\n",
              "    .dataframe thead th {\n",
              "        text-align: right;\n",
              "    }\n",
              "</style>\n",
              "<table border=\"1\" class=\"dataframe\">\n",
              "  <thead>\n",
              "    <tr style=\"text-align: right;\">\n",
              "      <th></th>\n",
              "      <th>Mean Sensitivity (CI 5%-95%)</th>\n",
              "    </tr>\n",
              "  </thead>\n",
              "  <tbody>\n",
              "    <tr>\n",
              "      <th>PNEUMONIA</th>\n",
              "      <td>0.98 (0.97-0.98)</td>\n",
              "    </tr>\n",
              "  </tbody>\n",
              "</table>\n",
              "</div>"
            ],
            "text/plain": [
              "          Mean Sensitivity (CI 5%-95%)\n",
              "PNEUMONIA             0.98 (0.97-0.98)"
            ]
          },
          "metadata": {
            "tags": []
          },
          "execution_count": 170
        }
      ]
    },
    {
      "cell_type": "code",
      "metadata": {
        "id": "jWsT1N58oLeW",
        "colab_type": "code",
        "colab": {
          "base_uri": "https://localhost:8080/",
          "height": 77
        },
        "outputId": "5782b19f-0486-4713-edbf-c2b891d09238"
      },
      "source": [
        "GCI['Specificity']"
      ],
      "execution_count": null,
      "outputs": [
        {
          "output_type": "execute_result",
          "data": {
            "text/html": [
              "<div>\n",
              "<style scoped>\n",
              "    .dataframe tbody tr th:only-of-type {\n",
              "        vertical-align: middle;\n",
              "    }\n",
              "\n",
              "    .dataframe tbody tr th {\n",
              "        vertical-align: top;\n",
              "    }\n",
              "\n",
              "    .dataframe thead th {\n",
              "        text-align: right;\n",
              "    }\n",
              "</style>\n",
              "<table border=\"1\" class=\"dataframe\">\n",
              "  <thead>\n",
              "    <tr style=\"text-align: right;\">\n",
              "      <th></th>\n",
              "      <th>Mean Specificity (CI 5%-95%)</th>\n",
              "    </tr>\n",
              "  </thead>\n",
              "  <tbody>\n",
              "    <tr>\n",
              "      <th>PNEUMONIA</th>\n",
              "      <td>0.62 (0.59-0.66)</td>\n",
              "    </tr>\n",
              "  </tbody>\n",
              "</table>\n",
              "</div>"
            ],
            "text/plain": [
              "          Mean Specificity (CI 5%-95%)\n",
              "PNEUMONIA             0.62 (0.59-0.66)"
            ]
          },
          "metadata": {
            "tags": []
          },
          "execution_count": 171
        }
      ]
    },
    {
      "cell_type": "code",
      "metadata": {
        "id": "mSUFpzxxcsoF",
        "colab_type": "code",
        "colab": {
          "base_uri": "https://localhost:8080/",
          "height": 442
        },
        "outputId": "c17d9791-c126-4338-bcb2-8a5d36d8f1fa"
      },
      "source": [
        " get_roc_curve(y_true.reshape(-1,1),y_pred.reshape(-1,1),['PNEUMONIA'])"
      ],
      "execution_count": 157,
      "outputs": [
        {
          "output_type": "display_data",
          "data": {
            "image/png": "[encoded data removed]",
            "text/plain": [
              "<Figure size 504x504 with 1 Axes>"
            ]
          },
          "metadata": {
            "tags": [],
            "needs_background": "light"
          }
        }
      ]
    },
    {
      "cell_type": "code",
      "metadata": {
        "id": "3ZNgAdd-eA6S",
        "colab_type": "code",
        "colab": {
          "base_uri": "https://localhost:8080/",
          "height": 442
        },
        "outputId": "1aed0c18-0a1c-477a-b910-35795c884c14"
      },
      "source": [
        "get_PR_curve(y_true.reshape(-1,1),y_pred.reshape(-1,1),['PNEUMONIA'])"
      ],
      "execution_count": 160,
      "outputs": [
        {
          "output_type": "display_data",
          "data": {
            "image/png": "[encoded data removed]",
            "text/plain": [
              "<Figure size 504x504 with 1 Axes>"
            ]
          },
          "metadata": {
            "tags": [],
            "needs_background": "light"
          }
        }
      ]
    },
    {
      "cell_type": "code",
      "metadata": {
        "id": "l57npimvcqdI",
        "colab_type": "code",
        "colab": {
          "base_uri": "https://localhost:8080/",
          "height": 279
        },
        "outputId": "9ec97a37-1cdb-4485-a7dd-3199cc3b3768"
      },
      "source": [
        "plot_confusion_matrix(y_true,y_pred_th,None)"
      ],
      "execution_count": 215,
      "outputs": [
        {
          "output_type": "display_data",
          "data": {
            "image/png": "[encoded data removed]",
            "text/plain": [
              "<Figure size 288x288 with 2 Axes>"
            ]
          },
          "metadata": {
            "tags": [],
            "needs_background": "light"
          }
        }
      ]
    },
    {
      "cell_type": "code",
      "metadata": {
        "id": "ACC-yynAoNQb",
        "colab_type": "code",
        "colab": {
          "base_uri": "https://localhost:8080/",
          "height": 918
        },
        "outputId": "c8d2b615-0309-4d55-d2e5-a311014f6cb8"
      },
      "source": [
        "plot_perf_metrics_errbars(y_true.reshape(-1,1),y_pred.reshape(-1,1),['PNEUMONIA'])"
      ],
      "execution_count": 207,
      "outputs": [
        {
          "output_type": "display_data",
          "data": {
            "image/png": "[encoded data removed]",
            "text/plain": [
              "<Figure size 288x1152 with 4 Axes>"
            ]
          },
          "metadata": {
            "tags": [],
            "needs_background": "light"
          }
        }
      ]
    },
    {
      "cell_type": "code",
      "metadata": {
        "id": "UNvFDONZpLgW",
        "colab_type": "code",
        "colab": {}
      },
      "source": [
        ""
      ],
      "execution_count": null,
      "outputs": []
    }
  ]
}