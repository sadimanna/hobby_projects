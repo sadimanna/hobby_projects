{
  "nbformat": 4,
  "nbformat_minor": 0,
  "metadata": {
    "kernelspec": {
      "display_name": "Python 3",
      "language": "python",
      "name": "python3"
    },
    "language_info": {
      "codemirror_mode": {
        "name": "ipython",
        "version": 3
      },
      "file_extension": ".py",
      "mimetype": "text/x-python",
      "name": "python",
      "nbconvert_exporter": "python",
      "pygments_lexer": "ipython3",
      "version": "3.8.5"
    },
    "varInspector": {
      "cols": {
        "lenName": 16,
        "lenType": 16,
        "lenVar": 40
      },
      "kernels_config": {
        "python": {
          "delete_cmd_postfix": "",
          "delete_cmd_prefix": "del ",
          "library": "var_list.py",
          "varRefreshCmd": "print(var_dic_list())"
        },
        "r": {
          "delete_cmd_postfix": ") ",
          "delete_cmd_prefix": "rm(",
          "library": "var_list.r",
          "varRefreshCmd": "cat(var_dic_list()) "
        }
      },
      "types_to_exclude": [
        "module",
        "function",
        "builtin_function_or_method",
        "instance",
        "_Feature"
      ],
      "window_display": false
    },
    "colab": {
      "name": "ConvLSTM Test-Copy1.ipynb",
      "provenance": [],
      "collapsed_sections": [],
      "include_colab_link": true
    }
  },
  "cells": [
    {
      "cell_type": "markdown",
      "metadata": {
        "id": "view-in-github",
        "colab_type": "text"
      },
      "source": [
        "<a href=\"https://colab.research.google.com/github/sadimanna/hobby_projects/blob/master/ConvLSTM_Test_Copy1.ipynb\" target=\"_parent\"><img src=\"https://colab.research.google.com/assets/colab-badge.svg\" alt=\"Open In Colab\"/></a>"
      ]
    },
    {
      "cell_type": "code",
      "metadata": {
        "id": "wHiGzh7l5Bgz",
        "colab_type": "code",
        "colab": {},
        "outputId": "01a27247-3c26-4c48-b53a-21a0207c6bb6"
      },
      "source": [
        "!nvidia-smi"
      ],
      "execution_count": null,
      "outputs": [
        {
          "output_type": "stream",
          "text": [
            "Sat Sep 12 10:45:01 2020       \n",
            "+-----------------------------------------------------------------------------+\n",
            "| NVIDIA-SMI 451.67       Driver Version: 451.67       CUDA Version: 11.0     |\n",
            "|-------------------------------+----------------------+----------------------+\n",
            "| GPU  Name            TCC/WDDM | Bus-Id        Disp.A | Volatile Uncorr. ECC |\n",
            "| Fan  Temp  Perf  Pwr:Usage/Cap|         Memory-Usage | GPU-Util  Compute M. |\n",
            "|===============================+======================+======================|\n",
            "|   0  GeForce RTX 2080   WDDM  | 00000000:01:00.0  On |                  N/A |\n",
            "| 33%   48C    P8    34W / 225W |    398MiB /  8192MiB |      1%      Default |\n",
            "+-------------------------------+----------------------+----------------------+\n",
            "                                                                               \n",
            "+-----------------------------------------------------------------------------+\n",
            "| Processes:                                                                  |\n",
            "|  GPU   GI   CI        PID   Type   Process name                  GPU Memory |\n",
            "|        ID   ID                                                   Usage      |\n",
            "|=============================================================================|\n",
            "|    0   N/A  N/A       656    C+G   ...es.TextInput.InputApp.exe    N/A      |\n",
            "|    0   N/A  N/A      1000    C+G   ...artMenuExperienceHost.exe    N/A      |\n",
            "|    0   N/A  N/A      1068    C+G   Insufficient Permissions        N/A      |\n",
            "|    0   N/A  N/A      1512    C+G   C:\\Windows\\explorer.exe         N/A      |\n",
            "|    0   N/A  N/A      2908    C+G   ...w5n1h2txyewy\\SearchUI.exe    N/A      |\n",
            "|    0   N/A  N/A      3980    C+G   ...y\\ShellExperienceHost.exe    N/A      |\n",
            "|    0   N/A  N/A      4496    C+G   ...wekyb3d8bbwe\\Video.UI.exe    N/A      |\n",
            "|    0   N/A  N/A      6368    C+G   ...me\\Application\\chrome.exe    N/A      |\n",
            "|    0   N/A  N/A      7596    C+G   ...ekyb3d8bbwe\\YourPhone.exe    N/A      |\n",
            "|    0   N/A  N/A      8324    C+G   ...qxf38zg5c\\Skype\\Skype.exe    N/A      |\n",
            "|    0   N/A  N/A      8392    C+G   Insufficient Permissions        N/A      |\n",
            "+-----------------------------------------------------------------------------+\n"
          ],
          "name": "stdout"
        }
      ]
    },
    {
      "cell_type": "code",
      "metadata": {
        "ExecuteTime": {
          "end_time": "2020-09-14T04:16:43.307160Z",
          "start_time": "2020-09-14T04:16:16.366499Z"
        },
        "id": "6RtJ2BsS5Bg3",
        "colab_type": "code",
        "colab": {}
      },
      "source": [
        "import numpy as np\n",
        "import pandas as pd\n",
        "import shutil, time, os, requests, random, copy, math\n",
        "from itertools import permutations \n",
        "import seaborn as sns\n",
        "import imageio, io, base64\n",
        "from skimage.transform import rotate, AffineTransform, warp, resize\n",
        "#from google.colab.patches import cv2_imshow\n",
        "from IPython.display import clear_output, Image, SVG, Video, HTML\n",
        "import h5py\n",
        "import struct as st\n",
        "\n",
        "#%tensorflow_version 2.x\n",
        "#%load_ext tensorboard\n",
        "import tensorflow as tf\n",
        "from tensorflow.keras import backend as K\n",
        "from tensorflow.keras.preprocessing.image import ImageDataGenerator, load_img, img_to_array\n",
        "\n",
        "from tensorflow.keras.layers import Input, Conv2D, MaxPool2D, GlobalAveragePooling2D, ConvLSTM2D\n",
        "from tensorflow.keras.layers import AveragePooling2D, BatchNormalization, Reshape\n",
        "from tensorflow.keras.layers import Dense, Dropout, Flatten, Activation, Concatenate, Lambda\n",
        "from tensorflow.keras.activations import relu\n",
        "\n",
        "from tensorflow.keras.models import Model, Sequential\n",
        "from tensorflow.keras.callbacks import EarlyStopping, ReduceLROnPlateau, ModelCheckpoint\n",
        "from tensorflow.keras.optimizers import Adam, SGD\n",
        "from tensorflow.keras import regularizers, activations\n",
        "from tensorflow.keras.utils import to_categorical, Sequence\n",
        "\n",
        "from tensorflow.keras.utils import plot_model\n",
        "from tensorflow.keras.utils import model_to_dot\n",
        "\n",
        "from sklearn.utils import shuffle\n",
        "from sklearn.metrics import classification_report, confusion_matrix, roc_curve, auc, f1_score\n",
        "from sklearn.metrics import average_precision_score, precision_recall_curve, roc_auc_score, accuracy_score\n",
        "from sklearn.utils.class_weight import compute_class_weight\n",
        "from sklearn.model_selection import train_test_split\n",
        "\n",
        "\n",
        "import matplotlib.pyplot as plt\n",
        "#import matplotlib.animation as animation\n",
        "%matplotlib inline"
      ],
      "execution_count": null,
      "outputs": []
    },
    {
      "cell_type": "code",
      "metadata": {
        "ExecuteTime": {
          "end_time": "2020-09-14T04:16:43.318853Z",
          "start_time": "2020-09-14T04:16:43.314869Z"
        },
        "id": "mwA_jfLv5Bg5",
        "colab_type": "code",
        "colab": {}
      },
      "source": [
        "#from tensorflow.keras.applications.inception_resnet_v2 import InceptionResNetV2\n",
        "from tensorflow.keras.applications.inception_resnet_v2 import preprocess_input as ppi_irv2\n",
        "np.random.seed(16)\n",
        "tf.random.set_seed(16)\n"
      ],
      "execution_count": null,
      "outputs": []
    },
    {
      "cell_type": "code",
      "metadata": {
        "ExecuteTime": {
          "end_time": "2020-09-14T04:16:43.360134Z",
          "start_time": "2020-09-14T04:16:43.324809Z"
        },
        "id": "am0paYPe5Bg7",
        "colab_type": "code",
        "colab": {}
      },
      "source": [
        "from tensorflow.keras.applications import VGG16"
      ],
      "execution_count": null,
      "outputs": []
    },
    {
      "cell_type": "code",
      "metadata": {
        "ExecuteTime": {
          "end_time": "2020-09-14T04:16:43.393341Z",
          "start_time": "2020-09-14T04:16:43.366117Z"
        },
        "id": "nzBS7wYv5Bg9",
        "colab_type": "code",
        "colab": {}
      },
      "source": [
        "from tensorflow.keras.applications.vgg16 import preprocess_input as ppivgg"
      ],
      "execution_count": null,
      "outputs": []
    },
    {
      "cell_type": "code",
      "metadata": {
        "ExecuteTime": {
          "end_time": "2020-09-14T04:16:45.335141Z",
          "start_time": "2020-09-14T04:16:43.398327Z"
        },
        "id": "PHhV2riX5BhA",
        "colab_type": "code",
        "colab": {}
      },
      "source": [
        "pretext_model = VGG16(include_top = False,weights='imagenet', input_shape = (256,256,3))"
      ],
      "execution_count": null,
      "outputs": []
    },
    {
      "cell_type": "code",
      "metadata": {
        "id": "jpeQzLWd5BhC",
        "colab_type": "code",
        "colab": {}
      },
      "source": [
        "x = pretext_model(i)"
      ],
      "execution_count": null,
      "outputs": []
    },
    {
      "cell_type": "code",
      "metadata": {
        "id": "XzrI0fnZ5BhF",
        "colab_type": "code",
        "colab": {},
        "outputId": "e39126ae-6c9f-41f2-a530-444e903f0d9b"
      },
      "source": [
        "x.shape"
      ],
      "execution_count": null,
      "outputs": [
        {
          "output_type": "execute_result",
          "data": {
            "text/plain": [
              "TensorShape([10, 5, 3, 512])"
            ]
          },
          "metadata": {
            "tags": []
          },
          "execution_count": 50
        }
      ]
    },
    {
      "cell_type": "code",
      "metadata": {
        "id": "z-5GQ2Uj5BhH",
        "colab_type": "code",
        "colab": {}
      },
      "source": [
        ""
      ],
      "execution_count": null,
      "outputs": []
    },
    {
      "cell_type": "code",
      "metadata": {
        "id": "aabTaBIN5BhI",
        "colab_type": "code",
        "colab": {}
      },
      "source": [
        ""
      ],
      "execution_count": null,
      "outputs": []
    },
    {
      "cell_type": "code",
      "metadata": {
        "id": "GY6jfSUX5BhK",
        "colab_type": "code",
        "colab": {}
      },
      "source": [
        ""
      ],
      "execution_count": null,
      "outputs": []
    },
    {
      "cell_type": "code",
      "metadata": {
        "id": "ldfsTAn05BhM",
        "colab_type": "code",
        "colab": {}
      },
      "source": [
        ""
      ],
      "execution_count": null,
      "outputs": []
    },
    {
      "cell_type": "code",
      "metadata": {
        "ExecuteTime": {
          "end_time": "2020-09-14T04:20:40.984251Z",
          "start_time": "2020-09-14T04:20:40.979264Z"
        },
        "id": "FgQK0zeV5BhO",
        "colab_type": "code",
        "colab": {}
      },
      "source": [
        "inp = Input(shape=(16,8,8,512))"
      ],
      "execution_count": null,
      "outputs": []
    },
    {
      "cell_type": "code",
      "metadata": {
        "ExecuteTime": {
          "end_time": "2020-09-14T04:20:48.952030Z",
          "start_time": "2020-09-14T04:20:42.231172Z"
        },
        "id": "ruEqE5LV5BhQ",
        "colab_type": "code",
        "colab": {}
      },
      "source": [
        "x = ConvLSTM2D(512,3,padding='same',kernel_initializer = tf.keras.initializers.he_normal(seed=16),return_sequences = True)(inp)\n",
        "x = ConvLSTM2D(512,3,kernel_initializer = tf.keras.initializers.he_normal(seed=16),return_sequences = False)(x)"
      ],
      "execution_count": null,
      "outputs": []
    },
    {
      "cell_type": "code",
      "metadata": {
        "ExecuteTime": {
          "end_time": "2020-09-13T09:19:06.628937Z",
          "start_time": "2020-09-13T09:19:06.624948Z"
        },
        "id": "ZNBAGUYT5BhS",
        "colab_type": "code",
        "colab": {},
        "outputId": "c9dac633-d9d8-4b9a-da11-7193b68e6350"
      },
      "source": [
        "x.shape"
      ],
      "execution_count": null,
      "outputs": [
        {
          "output_type": "execute_result",
          "data": {
            "text/plain": [
              "TensorShape([None, 6, 6, 512])"
            ]
          },
          "metadata": {
            "tags": []
          },
          "execution_count": 23
        }
      ]
    },
    {
      "cell_type": "code",
      "metadata": {
        "ExecuteTime": {
          "end_time": "2020-09-14T04:20:48.965986Z",
          "start_time": "2020-09-14T04:20:48.957929Z"
        },
        "id": "0F7WCuQg5BhU",
        "colab_type": "code",
        "colab": {}
      },
      "source": [
        "x = GlobalAveragePooling2D()(x)"
      ],
      "execution_count": null,
      "outputs": []
    },
    {
      "cell_type": "code",
      "metadata": {
        "ExecuteTime": {
          "end_time": "2020-09-14T04:20:49.528763Z",
          "start_time": "2020-09-14T04:20:49.517789Z"
        },
        "id": "OSU69bWk5BhW",
        "colab_type": "code",
        "colab": {}
      },
      "source": [
        "x = Dense(512,activation='relu')(x)"
      ],
      "execution_count": null,
      "outputs": []
    },
    {
      "cell_type": "code",
      "metadata": {
        "ExecuteTime": {
          "end_time": "2020-09-14T04:20:50.335387Z",
          "start_time": "2020-09-14T04:20:50.323428Z"
        },
        "id": "qKyv0nkf5BhX",
        "colab_type": "code",
        "colab": {}
      },
      "source": [
        "x = Dense(11,activation='softmax')(x)"
      ],
      "execution_count": null,
      "outputs": []
    },
    {
      "cell_type": "code",
      "metadata": {
        "ExecuteTime": {
          "end_time": "2020-09-14T04:20:52.135979Z",
          "start_time": "2020-09-14T04:20:52.130994Z"
        },
        "id": "hlPCXFtW5Bha",
        "colab_type": "code",
        "colab": {}
      },
      "source": [
        "dsmodel = Model(inputs = inp,outputs = x,name='ds_model')"
      ],
      "execution_count": null,
      "outputs": []
    },
    {
      "cell_type": "code",
      "metadata": {
        "ExecuteTime": {
          "end_time": "2020-09-14T04:20:53.064504Z",
          "start_time": "2020-09-14T04:20:53.059517Z"
        },
        "id": "JyrJA5IG5Bhc",
        "colab_type": "code",
        "colab": {},
        "outputId": "3ad4bd50-4a70-4dde-e9bf-46ddf107d955"
      },
      "source": [
        "dsmodel.summary()"
      ],
      "execution_count": null,
      "outputs": [
        {
          "output_type": "stream",
          "text": [
            "Model: \"ds_model\"\n",
            "_________________________________________________________________\n",
            "Layer (type)                 Output Shape              Param #   \n",
            "=================================================================\n",
            "input_2 (InputLayer)         [(None, 16, 8, 8, 512)]   0         \n",
            "_________________________________________________________________\n",
            "conv_lst_m2d (ConvLSTM2D)    (None, 16, 8, 8, 512)     18876416  \n",
            "_________________________________________________________________\n",
            "conv_lst_m2d_1 (ConvLSTM2D)  (None, 6, 6, 512)         18876416  \n",
            "_________________________________________________________________\n",
            "global_average_pooling2d (Gl (None, 512)               0         \n",
            "_________________________________________________________________\n",
            "dense (Dense)                (None, 512)               262656    \n",
            "_________________________________________________________________\n",
            "dense_1 (Dense)              (None, 11)                5643      \n",
            "=================================================================\n",
            "Total params: 38,021,131\n",
            "Trainable params: 38,021,131\n",
            "Non-trainable params: 0\n",
            "_________________________________________________________________\n"
          ],
          "name": "stdout"
        }
      ]
    },
    {
      "cell_type": "code",
      "metadata": {
        "ExecuteTime": {
          "end_time": "2020-09-14T13:37:26.457805Z",
          "start_time": "2020-09-14T13:37:26.444842Z"
        },
        "id": "GTPtVKaJ5Bhe",
        "colab_type": "code",
        "colab": {}
      },
      "source": [
        "dsmodel.compile(optimizer=tf.keras.optimizers.RMSprop(0.00001),\n",
        "                loss = tf.keras.losses.CategoricalCrossentropy(),\n",
        "                metrics = tf.keras.metrics.CategoricalAccuracy())"
      ],
      "execution_count": null,
      "outputs": []
    },
    {
      "cell_type": "code",
      "metadata": {
        "ExecuteTime": {
          "end_time": "2020-09-14T04:29:18.780022Z",
          "start_time": "2020-09-14T04:29:18.777052Z"
        },
        "id": "qpFPRT6z5Bhg",
        "colab_type": "code",
        "colab": {}
      },
      "source": [
        "tdg = DSDataGen('train',tr_filenames_df, preprocess_input = ppivgg)\n",
        "vdg = DSDataGen('valid',val_filenames_df,preprocess_input = ppivgg,data_aug= False)"
      ],
      "execution_count": null,
      "outputs": []
    },
    {
      "cell_type": "code",
      "metadata": {
        "ExecuteTime": {
          "end_time": "2020-09-14T16:38:45.784240Z",
          "start_time": "2020-09-14T15:41:18.107050Z"
        },
        "scrolled": true,
        "id": "myVyucE85Bhi",
        "colab_type": "code",
        "colab": {},
        "outputId": "1cef1e14-bf0f-4901-9fd4-b0b33222e77a"
      },
      "source": [
        "dshistory = dsmodel.fit(tdg, epochs = 2, validation_data = vdg)"
      ],
      "execution_count": null,
      "outputs": [
        {
          "output_type": "stream",
          "text": [
            "Epoch 1/2\n",
            " 210/1280 [===>..........................] - ETA: 4:47:53 - loss: 0.2242 - categorical_accuracy: 0.9238"
          ],
          "name": "stdout"
        },
        {
          "output_type": "error",
          "ename": "KeyboardInterrupt",
          "evalue": "",
          "traceback": [
            "\u001b[1;31m---------------------------------------------------------------------------\u001b[0m",
            "\u001b[1;31mKeyboardInterrupt\u001b[0m                         Traceback (most recent call last)",
            "\u001b[1;32m<ipython-input-37-6be3b4c69878>\u001b[0m in \u001b[0;36m<module>\u001b[1;34m\u001b[0m\n\u001b[1;32m----> 1\u001b[1;33m \u001b[0mdshistory\u001b[0m \u001b[1;33m=\u001b[0m \u001b[0mdsmodel\u001b[0m\u001b[1;33m.\u001b[0m\u001b[0mfit\u001b[0m\u001b[1;33m(\u001b[0m\u001b[0mtdg\u001b[0m\u001b[1;33m,\u001b[0m \u001b[0mepochs\u001b[0m \u001b[1;33m=\u001b[0m \u001b[1;36m2\u001b[0m\u001b[1;33m,\u001b[0m \u001b[0mvalidation_data\u001b[0m \u001b[1;33m=\u001b[0m \u001b[0mvdg\u001b[0m\u001b[1;33m)\u001b[0m\u001b[1;33m\u001b[0m\u001b[1;33m\u001b[0m\u001b[0m\n\u001b[0m",
            "\u001b[1;32m~\\AppData\\Roaming\\Python\\Python38\\site-packages\\tensorflow\\python\\keras\\engine\\training.py\u001b[0m in \u001b[0;36m_method_wrapper\u001b[1;34m(self, *args, **kwargs)\u001b[0m\n\u001b[0;32m     64\u001b[0m   \u001b[1;32mdef\u001b[0m \u001b[0m_method_wrapper\u001b[0m\u001b[1;33m(\u001b[0m\u001b[0mself\u001b[0m\u001b[1;33m,\u001b[0m \u001b[1;33m*\u001b[0m\u001b[0margs\u001b[0m\u001b[1;33m,\u001b[0m \u001b[1;33m**\u001b[0m\u001b[0mkwargs\u001b[0m\u001b[1;33m)\u001b[0m\u001b[1;33m:\u001b[0m\u001b[1;33m\u001b[0m\u001b[1;33m\u001b[0m\u001b[0m\n\u001b[0;32m     65\u001b[0m     \u001b[1;32mif\u001b[0m \u001b[1;32mnot\u001b[0m \u001b[0mself\u001b[0m\u001b[1;33m.\u001b[0m\u001b[0m_in_multi_worker_mode\u001b[0m\u001b[1;33m(\u001b[0m\u001b[1;33m)\u001b[0m\u001b[1;33m:\u001b[0m  \u001b[1;31m# pylint: disable=protected-access\u001b[0m\u001b[1;33m\u001b[0m\u001b[1;33m\u001b[0m\u001b[0m\n\u001b[1;32m---> 66\u001b[1;33m       \u001b[1;32mreturn\u001b[0m \u001b[0mmethod\u001b[0m\u001b[1;33m(\u001b[0m\u001b[0mself\u001b[0m\u001b[1;33m,\u001b[0m \u001b[1;33m*\u001b[0m\u001b[0margs\u001b[0m\u001b[1;33m,\u001b[0m \u001b[1;33m**\u001b[0m\u001b[0mkwargs\u001b[0m\u001b[1;33m)\u001b[0m\u001b[1;33m\u001b[0m\u001b[1;33m\u001b[0m\u001b[0m\n\u001b[0m\u001b[0;32m     67\u001b[0m \u001b[1;33m\u001b[0m\u001b[0m\n\u001b[0;32m     68\u001b[0m     \u001b[1;31m# Running inside `run_distribute_coordinator` already.\u001b[0m\u001b[1;33m\u001b[0m\u001b[1;33m\u001b[0m\u001b[1;33m\u001b[0m\u001b[0m\n",
            "\u001b[1;32m~\\AppData\\Roaming\\Python\\Python38\\site-packages\\tensorflow\\python\\keras\\engine\\training.py\u001b[0m in \u001b[0;36mfit\u001b[1;34m(self, x, y, batch_size, epochs, verbose, callbacks, validation_split, validation_data, shuffle, class_weight, sample_weight, initial_epoch, steps_per_epoch, validation_steps, validation_batch_size, validation_freq, max_queue_size, workers, use_multiprocessing)\u001b[0m\n\u001b[0;32m    846\u001b[0m                 batch_size=batch_size):\n\u001b[0;32m    847\u001b[0m               \u001b[0mcallbacks\u001b[0m\u001b[1;33m.\u001b[0m\u001b[0mon_train_batch_begin\u001b[0m\u001b[1;33m(\u001b[0m\u001b[0mstep\u001b[0m\u001b[1;33m)\u001b[0m\u001b[1;33m\u001b[0m\u001b[1;33m\u001b[0m\u001b[0m\n\u001b[1;32m--> 848\u001b[1;33m               \u001b[0mtmp_logs\u001b[0m \u001b[1;33m=\u001b[0m \u001b[0mtrain_function\u001b[0m\u001b[1;33m(\u001b[0m\u001b[0miterator\u001b[0m\u001b[1;33m)\u001b[0m\u001b[1;33m\u001b[0m\u001b[1;33m\u001b[0m\u001b[0m\n\u001b[0m\u001b[0;32m    849\u001b[0m               \u001b[1;31m# Catch OutOfRangeError for Datasets of unknown size.\u001b[0m\u001b[1;33m\u001b[0m\u001b[1;33m\u001b[0m\u001b[1;33m\u001b[0m\u001b[0m\n\u001b[0;32m    850\u001b[0m               \u001b[1;31m# This blocks until the batch has finished executing.\u001b[0m\u001b[1;33m\u001b[0m\u001b[1;33m\u001b[0m\u001b[1;33m\u001b[0m\u001b[0m\n",
            "\u001b[1;32m~\\AppData\\Roaming\\Python\\Python38\\site-packages\\tensorflow\\python\\eager\\def_function.py\u001b[0m in \u001b[0;36m__call__\u001b[1;34m(self, *args, **kwds)\u001b[0m\n\u001b[0;32m    578\u001b[0m         \u001b[0mxla_context\u001b[0m\u001b[1;33m.\u001b[0m\u001b[0mExit\u001b[0m\u001b[1;33m(\u001b[0m\u001b[1;33m)\u001b[0m\u001b[1;33m\u001b[0m\u001b[1;33m\u001b[0m\u001b[0m\n\u001b[0;32m    579\u001b[0m     \u001b[1;32melse\u001b[0m\u001b[1;33m:\u001b[0m\u001b[1;33m\u001b[0m\u001b[1;33m\u001b[0m\u001b[0m\n\u001b[1;32m--> 580\u001b[1;33m       \u001b[0mresult\u001b[0m \u001b[1;33m=\u001b[0m \u001b[0mself\u001b[0m\u001b[1;33m.\u001b[0m\u001b[0m_call\u001b[0m\u001b[1;33m(\u001b[0m\u001b[1;33m*\u001b[0m\u001b[0margs\u001b[0m\u001b[1;33m,\u001b[0m \u001b[1;33m**\u001b[0m\u001b[0mkwds\u001b[0m\u001b[1;33m)\u001b[0m\u001b[1;33m\u001b[0m\u001b[1;33m\u001b[0m\u001b[0m\n\u001b[0m\u001b[0;32m    581\u001b[0m \u001b[1;33m\u001b[0m\u001b[0m\n\u001b[0;32m    582\u001b[0m     \u001b[1;32mif\u001b[0m \u001b[0mtracing_count\u001b[0m \u001b[1;33m==\u001b[0m \u001b[0mself\u001b[0m\u001b[1;33m.\u001b[0m\u001b[0m_get_tracing_count\u001b[0m\u001b[1;33m(\u001b[0m\u001b[1;33m)\u001b[0m\u001b[1;33m:\u001b[0m\u001b[1;33m\u001b[0m\u001b[1;33m\u001b[0m\u001b[0m\n",
            "\u001b[1;32m~\\AppData\\Roaming\\Python\\Python38\\site-packages\\tensorflow\\python\\eager\\def_function.py\u001b[0m in \u001b[0;36m_call\u001b[1;34m(self, *args, **kwds)\u001b[0m\n\u001b[0;32m    609\u001b[0m       \u001b[1;31m# In this case we have created variables on the first call, so we run the\u001b[0m\u001b[1;33m\u001b[0m\u001b[1;33m\u001b[0m\u001b[1;33m\u001b[0m\u001b[0m\n\u001b[0;32m    610\u001b[0m       \u001b[1;31m# defunned version which is guaranteed to never create variables.\u001b[0m\u001b[1;33m\u001b[0m\u001b[1;33m\u001b[0m\u001b[1;33m\u001b[0m\u001b[0m\n\u001b[1;32m--> 611\u001b[1;33m       \u001b[1;32mreturn\u001b[0m \u001b[0mself\u001b[0m\u001b[1;33m.\u001b[0m\u001b[0m_stateless_fn\u001b[0m\u001b[1;33m(\u001b[0m\u001b[1;33m*\u001b[0m\u001b[0margs\u001b[0m\u001b[1;33m,\u001b[0m \u001b[1;33m**\u001b[0m\u001b[0mkwds\u001b[0m\u001b[1;33m)\u001b[0m  \u001b[1;31m# pylint: disable=not-callable\u001b[0m\u001b[1;33m\u001b[0m\u001b[1;33m\u001b[0m\u001b[0m\n\u001b[0m\u001b[0;32m    612\u001b[0m     \u001b[1;32melif\u001b[0m \u001b[0mself\u001b[0m\u001b[1;33m.\u001b[0m\u001b[0m_stateful_fn\u001b[0m \u001b[1;32mis\u001b[0m \u001b[1;32mnot\u001b[0m \u001b[1;32mNone\u001b[0m\u001b[1;33m:\u001b[0m\u001b[1;33m\u001b[0m\u001b[1;33m\u001b[0m\u001b[0m\n\u001b[0;32m    613\u001b[0m       \u001b[1;31m# Release the lock early so that multiple threads can perform the call\u001b[0m\u001b[1;33m\u001b[0m\u001b[1;33m\u001b[0m\u001b[1;33m\u001b[0m\u001b[0m\n",
            "\u001b[1;32m~\\AppData\\Roaming\\Python\\Python38\\site-packages\\tensorflow\\python\\eager\\function.py\u001b[0m in \u001b[0;36m__call__\u001b[1;34m(self, *args, **kwargs)\u001b[0m\n\u001b[0;32m   2418\u001b[0m     \u001b[1;32mwith\u001b[0m \u001b[0mself\u001b[0m\u001b[1;33m.\u001b[0m\u001b[0m_lock\u001b[0m\u001b[1;33m:\u001b[0m\u001b[1;33m\u001b[0m\u001b[1;33m\u001b[0m\u001b[0m\n\u001b[0;32m   2419\u001b[0m       \u001b[0mgraph_function\u001b[0m\u001b[1;33m,\u001b[0m \u001b[0margs\u001b[0m\u001b[1;33m,\u001b[0m \u001b[0mkwargs\u001b[0m \u001b[1;33m=\u001b[0m \u001b[0mself\u001b[0m\u001b[1;33m.\u001b[0m\u001b[0m_maybe_define_function\u001b[0m\u001b[1;33m(\u001b[0m\u001b[0margs\u001b[0m\u001b[1;33m,\u001b[0m \u001b[0mkwargs\u001b[0m\u001b[1;33m)\u001b[0m\u001b[1;33m\u001b[0m\u001b[1;33m\u001b[0m\u001b[0m\n\u001b[1;32m-> 2420\u001b[1;33m     \u001b[1;32mreturn\u001b[0m \u001b[0mgraph_function\u001b[0m\u001b[1;33m.\u001b[0m\u001b[0m_filtered_call\u001b[0m\u001b[1;33m(\u001b[0m\u001b[0margs\u001b[0m\u001b[1;33m,\u001b[0m \u001b[0mkwargs\u001b[0m\u001b[1;33m)\u001b[0m  \u001b[1;31m# pylint: disable=protected-access\u001b[0m\u001b[1;33m\u001b[0m\u001b[1;33m\u001b[0m\u001b[0m\n\u001b[0m\u001b[0;32m   2421\u001b[0m \u001b[1;33m\u001b[0m\u001b[0m\n\u001b[0;32m   2422\u001b[0m   \u001b[1;33m@\u001b[0m\u001b[0mproperty\u001b[0m\u001b[1;33m\u001b[0m\u001b[1;33m\u001b[0m\u001b[0m\n",
            "\u001b[1;32m~\\AppData\\Roaming\\Python\\Python38\\site-packages\\tensorflow\\python\\eager\\function.py\u001b[0m in \u001b[0;36m_filtered_call\u001b[1;34m(self, args, kwargs)\u001b[0m\n\u001b[0;32m   1659\u001b[0m       \u001b[0;31m`\u001b[0m\u001b[0margs\u001b[0m\u001b[0;31m`\u001b[0m \u001b[1;32mand\u001b[0m\u001b[0;31m \u001b[0m\u001b[0;31m`\u001b[0m\u001b[0mkwargs\u001b[0m\u001b[0;31m`\u001b[0m\u001b[1;33m.\u001b[0m\u001b[1;33m\u001b[0m\u001b[1;33m\u001b[0m\u001b[0m\n\u001b[0;32m   1660\u001b[0m     \"\"\"\n\u001b[1;32m-> 1661\u001b[1;33m     return self._call_flat(\n\u001b[0m\u001b[0;32m   1662\u001b[0m         (t for t in nest.flatten((args, kwargs), expand_composites=True)\n\u001b[0;32m   1663\u001b[0m          if isinstance(t, (ops.Tensor,\n",
            "\u001b[1;32m~\\AppData\\Roaming\\Python\\Python38\\site-packages\\tensorflow\\python\\eager\\function.py\u001b[0m in \u001b[0;36m_call_flat\u001b[1;34m(self, args, captured_inputs, cancellation_manager)\u001b[0m\n\u001b[0;32m   1743\u001b[0m         and executing_eagerly):\n\u001b[0;32m   1744\u001b[0m       \u001b[1;31m# No tape is watching; skip to running the function.\u001b[0m\u001b[1;33m\u001b[0m\u001b[1;33m\u001b[0m\u001b[1;33m\u001b[0m\u001b[0m\n\u001b[1;32m-> 1745\u001b[1;33m       return self._build_call_outputs(self._inference_function.call(\n\u001b[0m\u001b[0;32m   1746\u001b[0m           ctx, args, cancellation_manager=cancellation_manager))\n\u001b[0;32m   1747\u001b[0m     forward_backward = self._select_forward_and_backward_functions(\n",
            "\u001b[1;32m~\\AppData\\Roaming\\Python\\Python38\\site-packages\\tensorflow\\python\\eager\\function.py\u001b[0m in \u001b[0;36mcall\u001b[1;34m(self, ctx, args, cancellation_manager)\u001b[0m\n\u001b[0;32m    591\u001b[0m       \u001b[1;32mwith\u001b[0m \u001b[0m_InterpolateFunctionError\u001b[0m\u001b[1;33m(\u001b[0m\u001b[0mself\u001b[0m\u001b[1;33m)\u001b[0m\u001b[1;33m:\u001b[0m\u001b[1;33m\u001b[0m\u001b[1;33m\u001b[0m\u001b[0m\n\u001b[0;32m    592\u001b[0m         \u001b[1;32mif\u001b[0m \u001b[0mcancellation_manager\u001b[0m \u001b[1;32mis\u001b[0m \u001b[1;32mNone\u001b[0m\u001b[1;33m:\u001b[0m\u001b[1;33m\u001b[0m\u001b[1;33m\u001b[0m\u001b[0m\n\u001b[1;32m--> 593\u001b[1;33m           outputs = execute.execute(\n\u001b[0m\u001b[0;32m    594\u001b[0m               \u001b[0mstr\u001b[0m\u001b[1;33m(\u001b[0m\u001b[0mself\u001b[0m\u001b[1;33m.\u001b[0m\u001b[0msignature\u001b[0m\u001b[1;33m.\u001b[0m\u001b[0mname\u001b[0m\u001b[1;33m)\u001b[0m\u001b[1;33m,\u001b[0m\u001b[1;33m\u001b[0m\u001b[1;33m\u001b[0m\u001b[0m\n\u001b[0;32m    595\u001b[0m               \u001b[0mnum_outputs\u001b[0m\u001b[1;33m=\u001b[0m\u001b[0mself\u001b[0m\u001b[1;33m.\u001b[0m\u001b[0m_num_outputs\u001b[0m\u001b[1;33m,\u001b[0m\u001b[1;33m\u001b[0m\u001b[1;33m\u001b[0m\u001b[0m\n",
            "\u001b[1;32m~\\AppData\\Roaming\\Python\\Python38\\site-packages\\tensorflow\\python\\eager\\execute.py\u001b[0m in \u001b[0;36mquick_execute\u001b[1;34m(op_name, num_outputs, inputs, attrs, ctx, name)\u001b[0m\n\u001b[0;32m     57\u001b[0m   \u001b[1;32mtry\u001b[0m\u001b[1;33m:\u001b[0m\u001b[1;33m\u001b[0m\u001b[1;33m\u001b[0m\u001b[0m\n\u001b[0;32m     58\u001b[0m     \u001b[0mctx\u001b[0m\u001b[1;33m.\u001b[0m\u001b[0mensure_initialized\u001b[0m\u001b[1;33m(\u001b[0m\u001b[1;33m)\u001b[0m\u001b[1;33m\u001b[0m\u001b[1;33m\u001b[0m\u001b[0m\n\u001b[1;32m---> 59\u001b[1;33m     tensors = pywrap_tfe.TFE_Py_Execute(ctx._handle, device_name, op_name,\n\u001b[0m\u001b[0;32m     60\u001b[0m                                         inputs, attrs, num_outputs)\n\u001b[0;32m     61\u001b[0m   \u001b[1;32mexcept\u001b[0m \u001b[0mcore\u001b[0m\u001b[1;33m.\u001b[0m\u001b[0m_NotOkStatusException\u001b[0m \u001b[1;32mas\u001b[0m \u001b[0me\u001b[0m\u001b[1;33m:\u001b[0m\u001b[1;33m\u001b[0m\u001b[1;33m\u001b[0m\u001b[0m\n",
            "\u001b[1;31mKeyboardInterrupt\u001b[0m: "
          ]
        }
      ]
    },
    {
      "cell_type": "code",
      "metadata": {
        "ExecuteTime": {
          "end_time": "2020-09-14T18:16:47.158023Z",
          "start_time": "2020-09-14T16:39:45.093676Z"
        },
        "id": "btuJe2t95Bhk",
        "colab_type": "code",
        "colab": {},
        "outputId": "1d639856-de9e-4918-a96d-16f0e9a99795"
      },
      "source": [
        "results = dsmodel.evaluate(vdg)"
      ],
      "execution_count": null,
      "outputs": [
        {
          "output_type": "stream",
          "text": [
            "320/320 [==============================] - 5777s 18s/step - loss: 0.3821 - categorical_accuracy: 0.8938\n"
          ],
          "name": "stdout"
        }
      ]
    },
    {
      "cell_type": "code",
      "metadata": {
        "id": "p1a-BJTr5Bhl",
        "colab_type": "code",
        "colab": {},
        "outputId": "d4ec70c8-ea48-4530-d6b9-9c3d5cac451c"
      },
      "source": [
        "np.mean([92.7,90.62,92.19,91.56,90.62])"
      ],
      "execution_count": null,
      "outputs": [
        {
          "output_type": "execute_result",
          "data": {
            "text/plain": [
              "91.538"
            ]
          },
          "metadata": {
            "tags": []
          },
          "execution_count": 105
        }
      ]
    },
    {
      "cell_type": "code",
      "metadata": {
        "id": "FHXYYnQF5Bhn",
        "colab_type": "code",
        "colab": {},
        "outputId": "281c831e-5afc-4b59-99b5-7b1190864d59"
      },
      "source": [
        "np.std([92.7,90.62,92.19,91.56,90.62])"
      ],
      "execution_count": null,
      "outputs": [
        {
          "output_type": "execute_result",
          "data": {
            "text/plain": [
              "0.8320192305469852"
            ]
          },
          "metadata": {
            "tags": []
          },
          "execution_count": 107
        }
      ]
    },
    {
      "cell_type": "code",
      "metadata": {
        "ExecuteTime": {
          "end_time": "2020-09-14T04:28:34.992314Z",
          "start_time": "2020-09-14T04:28:34.987328Z"
        },
        "id": "KASITK2y5Bhp",
        "colab_type": "code",
        "colab": {}
      },
      "source": [
        "base_path = 'D:\\\\SiladittyaJRF\\\\Datasets\\\\UCF11_updated_mpg'"
      ],
      "execution_count": null,
      "outputs": []
    },
    {
      "cell_type": "code",
      "metadata": {
        "ExecuteTime": {
          "end_time": "2020-09-14T04:28:35.657841Z",
          "start_time": "2020-09-14T04:28:35.653870Z"
        },
        "id": "Yy_yrymz5Bhr",
        "colab_type": "code",
        "colab": {}
      },
      "source": [
        "classes = os.listdir(base_path)"
      ],
      "execution_count": null,
      "outputs": []
    },
    {
      "cell_type": "code",
      "metadata": {
        "ExecuteTime": {
          "end_time": "2020-09-14T04:28:36.260224Z",
          "start_time": "2020-09-14T04:28:36.254243Z"
        },
        "id": "ydeQ9huO5Bhs",
        "colab_type": "code",
        "colab": {}
      },
      "source": [
        "filenames_df = pd.DataFrame(columns=['filepath']+classes)"
      ],
      "execution_count": null,
      "outputs": []
    },
    {
      "cell_type": "code",
      "metadata": {
        "ExecuteTime": {
          "end_time": "2020-09-14T04:28:42.320305Z",
          "start_time": "2020-09-14T04:28:36.920635Z"
        },
        "id": "b07YO_Xz5Bhu",
        "colab_type": "code",
        "colab": {}
      },
      "source": [
        "for c in classes:\n",
        "    folders = os.listdir('\\\\'.join([base_path,c]))\n",
        "    labels = list(map(int,[cl==c for cl in classes]))\n",
        "    for fol in folders:\n",
        "        if fol != 'Annotation':\n",
        "            files = os.listdir('\\\\'.join([base_path,c,fol]))\n",
        "            for f in files:\n",
        "                pathdict = {'filepath':'\\\\'.join([base_path,c,fol,f])}\n",
        "                labelsdict = dict(zip(classes,labels))\n",
        "                filenames_df = filenames_df.append({**pathdict,**labelsdict},ignore_index=True)"
      ],
      "execution_count": null,
      "outputs": []
    },
    {
      "cell_type": "code",
      "metadata": {
        "ExecuteTime": {
          "end_time": "2020-09-14T04:28:42.338249Z",
          "start_time": "2020-09-14T04:28:42.333248Z"
        },
        "id": "ogpS93AW5Bhw",
        "colab_type": "code",
        "colab": {}
      },
      "source": [
        "filenames_df = filenames_df.reindex(np.random.permutation(filenames_df.index))"
      ],
      "execution_count": null,
      "outputs": []
    },
    {
      "cell_type": "code",
      "metadata": {
        "ExecuteTime": {
          "end_time": "2020-09-14T04:28:42.442274Z",
          "start_time": "2020-09-14T04:28:42.350202Z"
        },
        "id": "sNWTsMSB5Bhy",
        "colab_type": "code",
        "colab": {}
      },
      "source": [
        "filenames_df = filenames_df.reset_index()"
      ],
      "execution_count": null,
      "outputs": []
    },
    {
      "cell_type": "code",
      "metadata": {
        "ExecuteTime": {
          "end_time": "2020-09-14T04:28:42.536320Z",
          "start_time": "2020-09-14T04:28:42.454242Z"
        },
        "id": "G7RdASV35Bh0",
        "colab_type": "code",
        "colab": {},
        "outputId": "1923383b-1bbc-4a72-b7d9-0608114a3c17"
      },
      "source": [
        "filenames_df"
      ],
      "execution_count": null,
      "outputs": [
        {
          "output_type": "execute_result",
          "data": {
            "text/html": [
              "<div>\n",
              "<style scoped>\n",
              "    .dataframe tbody tr th:only-of-type {\n",
              "        vertical-align: middle;\n",
              "    }\n",
              "\n",
              "    .dataframe tbody tr th {\n",
              "        vertical-align: top;\n",
              "    }\n",
              "\n",
              "    .dataframe thead th {\n",
              "        text-align: right;\n",
              "    }\n",
              "</style>\n",
              "<table border=\"1\" class=\"dataframe\">\n",
              "  <thead>\n",
              "    <tr style=\"text-align: right;\">\n",
              "      <th></th>\n",
              "      <th>index</th>\n",
              "      <th>filepath</th>\n",
              "      <th>basketball</th>\n",
              "      <th>biking</th>\n",
              "      <th>diving</th>\n",
              "      <th>golf_swing</th>\n",
              "      <th>horse_riding</th>\n",
              "      <th>soccer_juggling</th>\n",
              "      <th>swing</th>\n",
              "      <th>tennis_swing</th>\n",
              "      <th>trampoline_jumping</th>\n",
              "      <th>volleyball_spiking</th>\n",
              "      <th>walking</th>\n",
              "    </tr>\n",
              "  </thead>\n",
              "  <tbody>\n",
              "    <tr>\n",
              "      <th>0</th>\n",
              "      <td>1041</td>\n",
              "      <td>D:\\SiladittyaJRF\\Datasets\\UCF11_updated_mpg\\sw...</td>\n",
              "      <td>0</td>\n",
              "      <td>0</td>\n",
              "      <td>0</td>\n",
              "      <td>0</td>\n",
              "      <td>0</td>\n",
              "      <td>0</td>\n",
              "      <td>1</td>\n",
              "      <td>0</td>\n",
              "      <td>0</td>\n",
              "      <td>0</td>\n",
              "      <td>0</td>\n",
              "    </tr>\n",
              "    <tr>\n",
              "      <th>1</th>\n",
              "      <td>336</td>\n",
              "      <td>D:\\SiladittyaJRF\\Datasets\\UCF11_updated_mpg\\di...</td>\n",
              "      <td>0</td>\n",
              "      <td>0</td>\n",
              "      <td>1</td>\n",
              "      <td>0</td>\n",
              "      <td>0</td>\n",
              "      <td>0</td>\n",
              "      <td>0</td>\n",
              "      <td>0</td>\n",
              "      <td>0</td>\n",
              "      <td>0</td>\n",
              "      <td>0</td>\n",
              "    </tr>\n",
              "    <tr>\n",
              "      <th>2</th>\n",
              "      <td>846</td>\n",
              "      <td>D:\\SiladittyaJRF\\Datasets\\UCF11_updated_mpg\\so...</td>\n",
              "      <td>0</td>\n",
              "      <td>0</td>\n",
              "      <td>0</td>\n",
              "      <td>0</td>\n",
              "      <td>0</td>\n",
              "      <td>1</td>\n",
              "      <td>0</td>\n",
              "      <td>0</td>\n",
              "      <td>0</td>\n",
              "      <td>0</td>\n",
              "      <td>0</td>\n",
              "    </tr>\n",
              "    <tr>\n",
              "      <th>3</th>\n",
              "      <td>511</td>\n",
              "      <td>D:\\SiladittyaJRF\\Datasets\\UCF11_updated_mpg\\go...</td>\n",
              "      <td>0</td>\n",
              "      <td>0</td>\n",
              "      <td>0</td>\n",
              "      <td>1</td>\n",
              "      <td>0</td>\n",
              "      <td>0</td>\n",
              "      <td>0</td>\n",
              "      <td>0</td>\n",
              "      <td>0</td>\n",
              "      <td>0</td>\n",
              "      <td>0</td>\n",
              "    </tr>\n",
              "    <tr>\n",
              "      <th>4</th>\n",
              "      <td>81</td>\n",
              "      <td>D:\\SiladittyaJRF\\Datasets\\UCF11_updated_mpg\\ba...</td>\n",
              "      <td>1</td>\n",
              "      <td>0</td>\n",
              "      <td>0</td>\n",
              "      <td>0</td>\n",
              "      <td>0</td>\n",
              "      <td>0</td>\n",
              "      <td>0</td>\n",
              "      <td>0</td>\n",
              "      <td>0</td>\n",
              "      <td>0</td>\n",
              "      <td>0</td>\n",
              "    </tr>\n",
              "    <tr>\n",
              "      <th>...</th>\n",
              "      <td>...</td>\n",
              "      <td>...</td>\n",
              "      <td>...</td>\n",
              "      <td>...</td>\n",
              "      <td>...</td>\n",
              "      <td>...</td>\n",
              "      <td>...</td>\n",
              "      <td>...</td>\n",
              "      <td>...</td>\n",
              "      <td>...</td>\n",
              "      <td>...</td>\n",
              "      <td>...</td>\n",
              "      <td>...</td>\n",
              "    </tr>\n",
              "    <tr>\n",
              "      <th>1595</th>\n",
              "      <td>1345</td>\n",
              "      <td>D:\\SiladittyaJRF\\Datasets\\UCF11_updated_mpg\\tr...</td>\n",
              "      <td>0</td>\n",
              "      <td>0</td>\n",
              "      <td>0</td>\n",
              "      <td>0</td>\n",
              "      <td>0</td>\n",
              "      <td>0</td>\n",
              "      <td>0</td>\n",
              "      <td>0</td>\n",
              "      <td>1</td>\n",
              "      <td>0</td>\n",
              "      <td>0</td>\n",
              "    </tr>\n",
              "    <tr>\n",
              "      <th>1596</th>\n",
              "      <td>581</td>\n",
              "      <td>D:\\SiladittyaJRF\\Datasets\\UCF11_updated_mpg\\go...</td>\n",
              "      <td>0</td>\n",
              "      <td>0</td>\n",
              "      <td>0</td>\n",
              "      <td>1</td>\n",
              "      <td>0</td>\n",
              "      <td>0</td>\n",
              "      <td>0</td>\n",
              "      <td>0</td>\n",
              "      <td>0</td>\n",
              "      <td>0</td>\n",
              "      <td>0</td>\n",
              "    </tr>\n",
              "    <tr>\n",
              "      <th>1597</th>\n",
              "      <td>121</td>\n",
              "      <td>D:\\SiladittyaJRF\\Datasets\\UCF11_updated_mpg\\ba...</td>\n",
              "      <td>1</td>\n",
              "      <td>0</td>\n",
              "      <td>0</td>\n",
              "      <td>0</td>\n",
              "      <td>0</td>\n",
              "      <td>0</td>\n",
              "      <td>0</td>\n",
              "      <td>0</td>\n",
              "      <td>0</td>\n",
              "      <td>0</td>\n",
              "      <td>0</td>\n",
              "    </tr>\n",
              "    <tr>\n",
              "      <th>1598</th>\n",
              "      <td>1262</td>\n",
              "      <td>D:\\SiladittyaJRF\\Datasets\\UCF11_updated_mpg\\tr...</td>\n",
              "      <td>0</td>\n",
              "      <td>0</td>\n",
              "      <td>0</td>\n",
              "      <td>0</td>\n",
              "      <td>0</td>\n",
              "      <td>0</td>\n",
              "      <td>0</td>\n",
              "      <td>0</td>\n",
              "      <td>1</td>\n",
              "      <td>0</td>\n",
              "      <td>0</td>\n",
              "    </tr>\n",
              "    <tr>\n",
              "      <th>1599</th>\n",
              "      <td>681</td>\n",
              "      <td>D:\\SiladittyaJRF\\Datasets\\UCF11_updated_mpg\\ho...</td>\n",
              "      <td>0</td>\n",
              "      <td>0</td>\n",
              "      <td>0</td>\n",
              "      <td>0</td>\n",
              "      <td>1</td>\n",
              "      <td>0</td>\n",
              "      <td>0</td>\n",
              "      <td>0</td>\n",
              "      <td>0</td>\n",
              "      <td>0</td>\n",
              "      <td>0</td>\n",
              "    </tr>\n",
              "  </tbody>\n",
              "</table>\n",
              "<p>1600 rows × 13 columns</p>\n",
              "</div>"
            ],
            "text/plain": [
              "      index                                           filepath basketball  \\\n",
              "0      1041  D:\\SiladittyaJRF\\Datasets\\UCF11_updated_mpg\\sw...          0   \n",
              "1       336  D:\\SiladittyaJRF\\Datasets\\UCF11_updated_mpg\\di...          0   \n",
              "2       846  D:\\SiladittyaJRF\\Datasets\\UCF11_updated_mpg\\so...          0   \n",
              "3       511  D:\\SiladittyaJRF\\Datasets\\UCF11_updated_mpg\\go...          0   \n",
              "4        81  D:\\SiladittyaJRF\\Datasets\\UCF11_updated_mpg\\ba...          1   \n",
              "...     ...                                                ...        ...   \n",
              "1595   1345  D:\\SiladittyaJRF\\Datasets\\UCF11_updated_mpg\\tr...          0   \n",
              "1596    581  D:\\SiladittyaJRF\\Datasets\\UCF11_updated_mpg\\go...          0   \n",
              "1597    121  D:\\SiladittyaJRF\\Datasets\\UCF11_updated_mpg\\ba...          1   \n",
              "1598   1262  D:\\SiladittyaJRF\\Datasets\\UCF11_updated_mpg\\tr...          0   \n",
              "1599    681  D:\\SiladittyaJRF\\Datasets\\UCF11_updated_mpg\\ho...          0   \n",
              "\n",
              "     biking diving golf_swing horse_riding soccer_juggling swing tennis_swing  \\\n",
              "0         0      0          0            0               0     1            0   \n",
              "1         0      1          0            0               0     0            0   \n",
              "2         0      0          0            0               1     0            0   \n",
              "3         0      0          1            0               0     0            0   \n",
              "4         0      0          0            0               0     0            0   \n",
              "...     ...    ...        ...          ...             ...   ...          ...   \n",
              "1595      0      0          0            0               0     0            0   \n",
              "1596      0      0          1            0               0     0            0   \n",
              "1597      0      0          0            0               0     0            0   \n",
              "1598      0      0          0            0               0     0            0   \n",
              "1599      0      0          0            1               0     0            0   \n",
              "\n",
              "     trampoline_jumping volleyball_spiking walking  \n",
              "0                     0                  0       0  \n",
              "1                     0                  0       0  \n",
              "2                     0                  0       0  \n",
              "3                     0                  0       0  \n",
              "4                     0                  0       0  \n",
              "...                 ...                ...     ...  \n",
              "1595                  1                  0       0  \n",
              "1596                  0                  0       0  \n",
              "1597                  0                  0       0  \n",
              "1598                  1                  0       0  \n",
              "1599                  0                  0       0  \n",
              "\n",
              "[1600 rows x 13 columns]"
            ]
          },
          "metadata": {
            "tags": []
          },
          "execution_count": 19
        }
      ]
    },
    {
      "cell_type": "code",
      "metadata": {
        "ExecuteTime": {
          "end_time": "2020-09-14T04:28:42.566302Z",
          "start_time": "2020-09-14T04:28:42.549262Z"
        },
        "id": "zjw62KvX5Bh1",
        "colab_type": "code",
        "colab": {}
      },
      "source": [
        "tr_filenames_df, val_filenames_df = train_test_split(filenames_df,test_size = 0.2)"
      ],
      "execution_count": null,
      "outputs": []
    },
    {
      "cell_type": "code",
      "metadata": {
        "ExecuteTime": {
          "end_time": "2020-09-14T04:28:42.633062Z",
          "start_time": "2020-09-14T04:28:42.590153Z"
        },
        "id": "L2eHXUq85Bh3",
        "colab_type": "code",
        "colab": {}
      },
      "source": [
        "num_samples_tr = np.sum(tr_filenames_df[classes].values,axis=0)"
      ],
      "execution_count": null,
      "outputs": []
    },
    {
      "cell_type": "code",
      "metadata": {
        "ExecuteTime": {
          "end_time": "2020-09-14T04:28:42.678031Z",
          "start_time": "2020-09-14T04:28:42.655978Z"
        },
        "id": "bm3HrZL-5Bh5",
        "colab_type": "code",
        "colab": {},
        "outputId": "e7a49662-3d69-45f7-be2e-808253fb0723"
      },
      "source": [
        "sum(num_samples_tr)"
      ],
      "execution_count": null,
      "outputs": [
        {
          "output_type": "execute_result",
          "data": {
            "text/plain": [
              "1280"
            ]
          },
          "metadata": {
            "tags": []
          },
          "execution_count": 22
        }
      ]
    },
    {
      "cell_type": "code",
      "metadata": {
        "ExecuteTime": {
          "end_time": "2020-09-14T04:28:59.298293Z",
          "start_time": "2020-09-14T04:28:59.293340Z"
        },
        "id": "58g8tJSz5Bh7",
        "colab_type": "code",
        "colab": {}
      },
      "source": [
        "NUM_FRAMES = 16\n",
        "NUM_CLASSES = 11"
      ],
      "execution_count": null,
      "outputs": []
    },
    {
      "cell_type": "code",
      "metadata": {
        "ExecuteTime": {
          "end_time": "2020-09-14T04:29:00.107528Z",
          "start_time": "2020-09-14T04:29:00.092561Z"
        },
        "id": "xS-rxn7Q5Bh9",
        "colab_type": "code",
        "colab": {}
      },
      "source": [
        "class DSDataGen(Sequence):\n",
        "    def __init__(self, phase, filenames_df, preprocess_input = None, batch_size=1, data_aug = True, num_frames = NUM_FRAMES, num_classes=NUM_CLASSES):\n",
        "        self.phase = phase\n",
        "        self.batch_size = batch_size\n",
        "        self.num_frames = num_frames\n",
        "        self.num_classes = num_classes\n",
        "        self.filenames_df = filenames_df\n",
        "        self.preprocess_input = preprocess_input\n",
        "        \n",
        "        self.MAX_FRAMES = num_frames #NUM_FRAMES\n",
        "\n",
        "        self.indices = list(range(self.filenames_df.shape[0]))\n",
        "        \n",
        "        self.data_aug = data_aug\n",
        "    \n",
        "    def load_volume(self,file_idx):\n",
        "        filePoolLen = self.filenames_df.shape[0]\n",
        "        #print(file_idx)\n",
        "        file_idx = file_idx%filePoolLen \n",
        "        vol = np.array([]).reshape((0,256,256,3))\n",
        "        vid = imageio.get_reader(self.filenames_df['filepath'].iloc[file_idx],'ffmpeg')\n",
        "        for img in vid.iter_data():\n",
        "            vol = np.append(vol,np.expand_dims(resize(img,(256,256,3),preserve_range=True),axis=0),axis=0)\n",
        "        return vol\n",
        "    \n",
        "    def get_frames(self,idx):\n",
        "        image_volume = self.load_volume(idx)\n",
        "        tot_frames = image_volume.shape[0]\n",
        "        \n",
        "        self.num_frames = np.min([tot_frames,self.MAX_FRAMES])\n",
        "\n",
        "        #ONLY FOR STANFORD MODEL\n",
        "        frame_idxs = np.array(sorted(random.sample(list(range(tot_frames)),self.num_frames)))\n",
        "\n",
        "        frames = np.array([]).reshape((0,256,256,3))\n",
        "        for n in range(self.num_frames):\n",
        "            frame_idx = frame_idxs[n]\n",
        "            frame = np.array(image_volume[frame_idx])\n",
        "            frames = np.append(frames,np.expand_dims(frame,axis=0),axis=0)\n",
        "        #print(frames.shape)\n",
        "        return frames\n",
        "    \n",
        "    def __len__(self):\n",
        "        return len(self.filenames_df)\n",
        "    \n",
        "    def __getitem__(self,idx):\n",
        "        \n",
        "        batch_imgs = np.array([]).reshape((0,256,256,3))\n",
        "        #CREATE BATCH\n",
        "        for bs in range(self.batch_size):\n",
        "            #file_idx = self.startind + bs\n",
        "            #GET CLIP FRAMES\n",
        "            batch_imgs = np.append(batch_imgs.astype(np.float32),self.get_frames(idx),axis=0)\n",
        "            \n",
        "            #sind = 0\n",
        "            #eind = 0\n",
        "            #AUGMENT FRAMES\n",
        "            if self.data_aug and self.phase == 'train':\n",
        "                batch_imgs = self.__augment(batch_imgs)\n",
        "\n",
        "        #PREPROCESS FRAMES\n",
        "        #print(np.min(batch_imgs))\n",
        "        batch_imgs = self.preprocess_input(batch_imgs)\n",
        "        inputs = pretext_model(batch_imgs)\n",
        "        inputs = tf.expand_dims(inputs,axis=0)\n",
        "        #print(np.min(batch_imgs))\n",
        "                              \n",
        "        return inputs, self.filenames_df[classes].iloc[idx].values.astype('int').reshape((1,-1))\n",
        "    \n",
        "    def on_epoch_end(self):\n",
        "        idx = np.random.permutation(self.filenames_df.index.values)\n",
        "        #self.mllabs = self.mllabs.reindex(idx)\n",
        "        self.filenames_df = self.filenames_df.reindex(idx)\n",
        "        #self.mllabs = self.mllabs.reset_index(drop=True)\n",
        "        self.filenames_df = self.filenames_df.reset_index(drop=True)\n",
        "    \n",
        "    def __augment(self,batch_imgs):\n",
        "        num_imgs = batch_imgs.shape[0]\n",
        "        rotang = np.random.choice([-20,0,20])\n",
        "        scale = np.random.choice([1,1.15])\n",
        "        transformation_matrix=np.array([[scale,           0,             np.random.choice([-15,0,15])],\n",
        "                                        [0,               scale,         np.random.choice([-15,0,15])],\n",
        "                                        [0,               0,                       1                 ]])\n",
        "        for i in range(num_imgs):\n",
        "            batch_imgs[i] = rotate(batch_imgs[i],rotang,preserve_range=True)\n",
        "            batch_imgs[i] = warp(batch_imgs[i], AffineTransform(matrix=transformation_matrix).inverse, preserve_range=True)\n",
        "            #print(batch_labs)\n",
        "                \n",
        "        return batch_imgs"
      ],
      "execution_count": null,
      "outputs": []
    },
    {
      "cell_type": "code",
      "metadata": {
        "ExecuteTime": {
          "end_time": "2020-09-13T09:13:38.295186Z",
          "start_time": "2020-09-13T09:13:38.292221Z"
        },
        "id": "mO1R7kDE5Bh-",
        "colab_type": "code",
        "colab": {}
      },
      "source": [
        "TRDG = DSDataGen('train', tr_filenames_df, preprocess_input = ppivgg, batch_size=1, data_aug = True, num_frames = NUM_FRAMES, num_classes=NUM_CLASSES)"
      ],
      "execution_count": null,
      "outputs": []
    },
    {
      "cell_type": "code",
      "metadata": {
        "ExecuteTime": {
          "end_time": "2020-09-13T09:13:48.717789Z",
          "start_time": "2020-09-13T09:13:38.964951Z"
        },
        "id": "7l6JfSdO5BiA",
        "colab_type": "code",
        "colab": {}
      },
      "source": [
        "i,l = TRDG.__getitem__(0)"
      ],
      "execution_count": null,
      "outputs": []
    },
    {
      "cell_type": "code",
      "metadata": {
        "ExecuteTime": {
          "end_time": "2020-09-13T09:13:50.441612Z",
          "start_time": "2020-09-13T09:13:50.437624Z"
        },
        "id": "9joTE4vP5BiC",
        "colab_type": "code",
        "colab": {},
        "outputId": "7cec5804-e4fa-4502-dba6-ab0b0eddacad"
      },
      "source": [
        "i.shape"
      ],
      "execution_count": null,
      "outputs": [
        {
          "output_type": "execute_result",
          "data": {
            "text/plain": [
              "TensorShape([1, 10, 8, 8, 512])"
            ]
          },
          "metadata": {
            "tags": []
          },
          "execution_count": 20
        }
      ]
    },
    {
      "cell_type": "code",
      "metadata": {
        "id": "AkKk9xWh5BiF",
        "colab_type": "code",
        "colab": {},
        "outputId": "67c54f58-117b-4c75-c9e7-756f746424a8"
      },
      "source": [
        "fig,ax = plt.subplots(2,5,figsize=(50,20))\n",
        "for j in range(10):\n",
        "    ax[j//5,j%5].imshow((i[0,j]-np.min(i[0,j]))/(np.max(i[0,j])-np.min(i[0,j])))"
      ],
      "execution_count": null,
      "outputs": [
        {
          "output_type": "error",
          "ename": "TypeError",
          "evalue": "Invalid shape (5, 3, 512) for image data",
          "traceback": [
            "\u001b[1;31m---------------------------------------------------------------------------\u001b[0m",
            "\u001b[1;31mTypeError\u001b[0m                                 Traceback (most recent call last)",
            "\u001b[1;32m<ipython-input-68-a9c081be167d>\u001b[0m in \u001b[0;36m<module>\u001b[1;34m\u001b[0m\n\u001b[0;32m      1\u001b[0m \u001b[0mfig\u001b[0m\u001b[1;33m,\u001b[0m\u001b[0max\u001b[0m \u001b[1;33m=\u001b[0m \u001b[0mplt\u001b[0m\u001b[1;33m.\u001b[0m\u001b[0msubplots\u001b[0m\u001b[1;33m(\u001b[0m\u001b[1;36m2\u001b[0m\u001b[1;33m,\u001b[0m\u001b[1;36m5\u001b[0m\u001b[1;33m,\u001b[0m\u001b[0mfigsize\u001b[0m\u001b[1;33m=\u001b[0m\u001b[1;33m(\u001b[0m\u001b[1;36m50\u001b[0m\u001b[1;33m,\u001b[0m\u001b[1;36m20\u001b[0m\u001b[1;33m)\u001b[0m\u001b[1;33m)\u001b[0m\u001b[1;33m\u001b[0m\u001b[1;33m\u001b[0m\u001b[0m\n\u001b[0;32m      2\u001b[0m \u001b[1;32mfor\u001b[0m \u001b[0mj\u001b[0m \u001b[1;32min\u001b[0m \u001b[0mrange\u001b[0m\u001b[1;33m(\u001b[0m\u001b[1;36m10\u001b[0m\u001b[1;33m)\u001b[0m\u001b[1;33m:\u001b[0m\u001b[1;33m\u001b[0m\u001b[1;33m\u001b[0m\u001b[0m\n\u001b[1;32m----> 3\u001b[1;33m     \u001b[0max\u001b[0m\u001b[1;33m[\u001b[0m\u001b[0mj\u001b[0m\u001b[1;33m//\u001b[0m\u001b[1;36m5\u001b[0m\u001b[1;33m,\u001b[0m\u001b[0mj\u001b[0m\u001b[1;33m%\u001b[0m\u001b[1;36m5\u001b[0m\u001b[1;33m]\u001b[0m\u001b[1;33m.\u001b[0m\u001b[0mimshow\u001b[0m\u001b[1;33m(\u001b[0m\u001b[1;33m(\u001b[0m\u001b[0mi\u001b[0m\u001b[1;33m[\u001b[0m\u001b[1;36m0\u001b[0m\u001b[1;33m,\u001b[0m\u001b[0mj\u001b[0m\u001b[1;33m]\u001b[0m\u001b[1;33m-\u001b[0m\u001b[0mnp\u001b[0m\u001b[1;33m.\u001b[0m\u001b[0mmin\u001b[0m\u001b[1;33m(\u001b[0m\u001b[0mi\u001b[0m\u001b[1;33m[\u001b[0m\u001b[1;36m0\u001b[0m\u001b[1;33m,\u001b[0m\u001b[0mj\u001b[0m\u001b[1;33m]\u001b[0m\u001b[1;33m)\u001b[0m\u001b[1;33m)\u001b[0m\u001b[1;33m/\u001b[0m\u001b[1;33m(\u001b[0m\u001b[0mnp\u001b[0m\u001b[1;33m.\u001b[0m\u001b[0mmax\u001b[0m\u001b[1;33m(\u001b[0m\u001b[0mi\u001b[0m\u001b[1;33m[\u001b[0m\u001b[1;36m0\u001b[0m\u001b[1;33m,\u001b[0m\u001b[0mj\u001b[0m\u001b[1;33m]\u001b[0m\u001b[1;33m)\u001b[0m\u001b[1;33m-\u001b[0m\u001b[0mnp\u001b[0m\u001b[1;33m.\u001b[0m\u001b[0mmin\u001b[0m\u001b[1;33m(\u001b[0m\u001b[0mi\u001b[0m\u001b[1;33m[\u001b[0m\u001b[1;36m0\u001b[0m\u001b[1;33m,\u001b[0m\u001b[0mj\u001b[0m\u001b[1;33m]\u001b[0m\u001b[1;33m)\u001b[0m\u001b[1;33m)\u001b[0m\u001b[1;33m)\u001b[0m\u001b[1;33m\u001b[0m\u001b[1;33m\u001b[0m\u001b[0m\n\u001b[0m",
            "\u001b[1;32mc:\\users\\cvpr\\appdata\\local\\programs\\python\\python38\\lib\\site-packages\\matplotlib\\__init__.py\u001b[0m in \u001b[0;36minner\u001b[1;34m(ax, data, *args, **kwargs)\u001b[0m\n\u001b[0;32m   1429\u001b[0m     \u001b[1;32mdef\u001b[0m \u001b[0minner\u001b[0m\u001b[1;33m(\u001b[0m\u001b[0max\u001b[0m\u001b[1;33m,\u001b[0m \u001b[1;33m*\u001b[0m\u001b[0margs\u001b[0m\u001b[1;33m,\u001b[0m \u001b[0mdata\u001b[0m\u001b[1;33m=\u001b[0m\u001b[1;32mNone\u001b[0m\u001b[1;33m,\u001b[0m \u001b[1;33m**\u001b[0m\u001b[0mkwargs\u001b[0m\u001b[1;33m)\u001b[0m\u001b[1;33m:\u001b[0m\u001b[1;33m\u001b[0m\u001b[1;33m\u001b[0m\u001b[0m\n\u001b[0;32m   1430\u001b[0m         \u001b[1;32mif\u001b[0m \u001b[0mdata\u001b[0m \u001b[1;32mis\u001b[0m \u001b[1;32mNone\u001b[0m\u001b[1;33m:\u001b[0m\u001b[1;33m\u001b[0m\u001b[1;33m\u001b[0m\u001b[0m\n\u001b[1;32m-> 1431\u001b[1;33m             \u001b[1;32mreturn\u001b[0m \u001b[0mfunc\u001b[0m\u001b[1;33m(\u001b[0m\u001b[0max\u001b[0m\u001b[1;33m,\u001b[0m \u001b[1;33m*\u001b[0m\u001b[0mmap\u001b[0m\u001b[1;33m(\u001b[0m\u001b[0msanitize_sequence\u001b[0m\u001b[1;33m,\u001b[0m \u001b[0margs\u001b[0m\u001b[1;33m)\u001b[0m\u001b[1;33m,\u001b[0m \u001b[1;33m**\u001b[0m\u001b[0mkwargs\u001b[0m\u001b[1;33m)\u001b[0m\u001b[1;33m\u001b[0m\u001b[1;33m\u001b[0m\u001b[0m\n\u001b[0m\u001b[0;32m   1432\u001b[0m \u001b[1;33m\u001b[0m\u001b[0m\n\u001b[0;32m   1433\u001b[0m         \u001b[0mbound\u001b[0m \u001b[1;33m=\u001b[0m \u001b[0mnew_sig\u001b[0m\u001b[1;33m.\u001b[0m\u001b[0mbind\u001b[0m\u001b[1;33m(\u001b[0m\u001b[0max\u001b[0m\u001b[1;33m,\u001b[0m \u001b[1;33m*\u001b[0m\u001b[0margs\u001b[0m\u001b[1;33m,\u001b[0m \u001b[1;33m**\u001b[0m\u001b[0mkwargs\u001b[0m\u001b[1;33m)\u001b[0m\u001b[1;33m\u001b[0m\u001b[1;33m\u001b[0m\u001b[0m\n",
            "\u001b[1;32mc:\\users\\cvpr\\appdata\\local\\programs\\python\\python38\\lib\\site-packages\\matplotlib\\axes\\_axes.py\u001b[0m in \u001b[0;36mimshow\u001b[1;34m(self, X, cmap, norm, aspect, interpolation, alpha, vmin, vmax, origin, extent, filternorm, filterrad, resample, url, **kwargs)\u001b[0m\n\u001b[0;32m   5517\u001b[0m                               resample=resample, **kwargs)\n\u001b[0;32m   5518\u001b[0m \u001b[1;33m\u001b[0m\u001b[0m\n\u001b[1;32m-> 5519\u001b[1;33m         \u001b[0mim\u001b[0m\u001b[1;33m.\u001b[0m\u001b[0mset_data\u001b[0m\u001b[1;33m(\u001b[0m\u001b[0mX\u001b[0m\u001b[1;33m)\u001b[0m\u001b[1;33m\u001b[0m\u001b[1;33m\u001b[0m\u001b[0m\n\u001b[0m\u001b[0;32m   5520\u001b[0m         \u001b[0mim\u001b[0m\u001b[1;33m.\u001b[0m\u001b[0mset_alpha\u001b[0m\u001b[1;33m(\u001b[0m\u001b[0malpha\u001b[0m\u001b[1;33m)\u001b[0m\u001b[1;33m\u001b[0m\u001b[1;33m\u001b[0m\u001b[0m\n\u001b[0;32m   5521\u001b[0m         \u001b[1;32mif\u001b[0m \u001b[0mim\u001b[0m\u001b[1;33m.\u001b[0m\u001b[0mget_clip_path\u001b[0m\u001b[1;33m(\u001b[0m\u001b[1;33m)\u001b[0m \u001b[1;32mis\u001b[0m \u001b[1;32mNone\u001b[0m\u001b[1;33m:\u001b[0m\u001b[1;33m\u001b[0m\u001b[1;33m\u001b[0m\u001b[0m\n",
            "\u001b[1;32mc:\\users\\cvpr\\appdata\\local\\programs\\python\\python38\\lib\\site-packages\\matplotlib\\image.py\u001b[0m in \u001b[0;36mset_data\u001b[1;34m(self, A)\u001b[0m\n\u001b[0;32m    704\u001b[0m         if not (self._A.ndim == 2\n\u001b[0;32m    705\u001b[0m                 or self._A.ndim == 3 and self._A.shape[-1] in [3, 4]):\n\u001b[1;32m--> 706\u001b[1;33m             raise TypeError(\"Invalid shape {} for image data\"\n\u001b[0m\u001b[0;32m    707\u001b[0m                             .format(self._A.shape))\n\u001b[0;32m    708\u001b[0m \u001b[1;33m\u001b[0m\u001b[0m\n",
            "\u001b[1;31mTypeError\u001b[0m: Invalid shape (5, 3, 512) for image data"
          ]
        },
        {
          "output_type": "display_data",
          "data": {
            "image/png": "[encoded data removed]",
            "text/plain": [
              "<Figure size 3600x1440 with 10 Axes>"
            ]
          },
          "metadata": {
            "tags": [],
            "needs_background": "light"
          }
        }
      ]
    },
    {
      "cell_type": "code",
      "metadata": {
        "id": "IJO2hAln5BiG",
        "colab_type": "code",
        "colab": {}
      },
      "source": [
        ""
      ],
      "execution_count": null,
      "outputs": []
    }
  ]
}
